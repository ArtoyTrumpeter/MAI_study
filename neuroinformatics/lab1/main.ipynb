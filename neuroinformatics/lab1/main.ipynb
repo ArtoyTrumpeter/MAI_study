{
 "cells": [
  {
   "cell_type": "markdown",
   "id": "ef0f7906",
   "metadata": {},
   "source": [
    "#### Тояков А. О. Группа: М8о-407б-18"
   ]
  },
  {
   "cell_type": "markdown",
   "id": "273731d1",
   "metadata": {},
   "source": [
    "Структура Перцептрона Розенблата. Мы будем строить слой из таких перцептронов в зависимости от того, на сколько классов надо разбить данные. По условию - выход перцептрона $net$, поэтому из схемы ниже нужно изключить пороговую функцию активации."
   ]
  },
  {
   "cell_type": "markdown",
   "id": "b1bf84d4",
   "metadata": {},
   "source": [
    "![title](./picture.jpg)"
   ]
  },
  {
   "cell_type": "markdown",
   "id": "1d911c57",
   "metadata": {},
   "source": [
    "# Алгоритм обучения\n",
    "\n",
    "\n",
    "Если дана $(X, Y)$ - обучающая выборка, то задача - найти веса и смещение $(W, b)$ для каждого парцептрона из слоя. Алгоритм работает за заданное $N$ количество шагов, или пока веса не перестанут меняться.\n",
    "\n",
    "1. Инициализация весов и смещения случайным образом. Номер шага $k = 0$.\n",
    "2. Пока веса изменяются и k < N:\n",
    "   \n",
    "      Для каждого поданного на вход значения $p_i \\in X$, $ \\forall i:$ 0 $\\leq i < |X|$:                       \n",
    "      Если: $y_i (p_i \\cdot W + b) < 0$, cчитаем ошибку $e = y_i - (p_i \\cdot W + b)$ меняем веса:\n",
    "\n",
    "$$W = W + e*p_i$$$$b = b +e$$\n",
    "\n",
    "3. Полученные веса и смещения - результат обучения."
   ]
  },
  {
   "cell_type": "markdown",
   "id": "a462905a",
   "metadata": {},
   "source": [
    "# Реализация сети\n",
    "\n",
    "При обучении добавим к тренировочным данным еденичный столбец для смещения."
   ]
  },
  {
   "cell_type": "code",
   "execution_count": 2,
   "id": "39e5aa6d",
   "metadata": {},
   "outputs": [],
   "source": [
    "import random\n",
    "import numpy as np\n",
    "import matplotlib.pyplot as plt\n",
    "from tqdm import tqdm"
   ]
  },
  {
   "cell_type": "code",
   "execution_count": 7,
   "id": "f9395c54",
   "metadata": {},
   "outputs": [],
   "source": [
    "class RosenblattLayer:\n",
    "    def __init__(self, steps = 50, early_stop = False):\n",
    "        self.steps = steps\n",
    "        self.w = None\n",
    "        self.negative_is_zero = False\n",
    "        self.early_stop = early_stop\n",
    "    \n",
    "    def fit(self, X, y):\n",
    "        # add column for bias and transpose data for comphort operations:\n",
    "        X_t = np.append(X, np.ones((1, X.shape[1])), axis = 0).T\n",
    "        y_t = np.array(y.T)\n",
    "        \n",
    "        if (y_t == 0).sum():\n",
    "            self.negative_is_zero = True\n",
    "            y_t[y_t == 0] = -1\n",
    "\n",
    "        #init weights\n",
    "        if self.w is None:\n",
    "            self.w = np.random.random((X_t.shape[1], y_t.shape[1]))\n",
    "        \n",
    "        # main loop\n",
    "        \n",
    "        for step in tqdm(range(self.steps)):\n",
    "            stop = True\n",
    "            for i in range(X_t.shape[0]):\n",
    "                # compute error of all perceptrons\n",
    "                predict = X_t[i].dot(self.w)\n",
    "                if np.sum(predict*y_t[i] < 0):\n",
    "                    stop = False\n",
    "                    e = y_t[i] - X_t[i].dot(self.w)\n",
    "                    e[predict*y_t[i] >= 0] = 0.0\n",
    "                    self.w += X_t[i].reshape(X_t.shape[1], 1).dot(e.reshape(1, y_t.shape[1]))\n",
    "            if stop and self.early_stop:\n",
    "                break\n",
    "                \n",
    "        return self\n",
    "\n",
    "    def set_steps(self, steps):\n",
    "        self.steps = steps\n",
    "        \n",
    "    def set_early_stop(self, stop):\n",
    "        self.early_stop = stop\n",
    "    \n",
    "    # Predict answers\n",
    "    def predict(self, X):\n",
    "        X_t = np.append(X, np.ones((1, X.shape[1])), axis = 0).T\n",
    "        return X_t.dot(self.w).T\n",
    "    \n",
    "    def predict_classes(self, X):\n",
    "        X_t = np.append(X, np.ones((1, X.shape[1])), axis = 0).T\n",
    "        ans = X_t.dot(self.w)\n",
    "        a_t =  ans < 0\n",
    "        if self.negative_is_zero:\n",
    "            ans[a_t] = 0\n",
    "        else:\n",
    "            ans[a_t] = -1\n",
    "        ans[np.logical_not(a_t)] = 1\n",
    "        return ans.T\n",
    "    \n",
    "    def display(self):\n",
    "        ans = \" Input(n,\" + str(self.w.shape[0] - 1) + \")  -->  \"\n",
    "        ans += \"Rosenblat Perceptrons(\" + str(self.w.shape[1]) + \")  -->  \"\n",
    "        ans += \"Output(n, \" + str(self.w.shape[1]) + \")\"\n",
    "        return ans\n",
    "    \n",
    "    def weights(self):\n",
    "        return self.w[:-1]\n",
    "    \n",
    "    def bias(self):\n",
    "        return self.w[-1]\n",
    "    \n",
    "    def score(self, X, y):\n",
    "        X_t = np.append(X, np.ones((1, X.shape[1])), axis = 0).T\n",
    "        y_t = np.array(y.T)\n",
    "        y_t[y_t == 0] = -1\n",
    "        return np.abs(y_t - X_t.dot(self.w)).mean()"
   ]
  },
  {
   "cell_type": "markdown",
   "id": "4f9df03b",
   "metadata": {},
   "source": [
    "# Решение\n",
    "## Задание №1\n",
    "Данные:"
   ]
  },
  {
   "cell_type": "code",
   "execution_count": 8,
   "id": "29f6c2d0",
   "metadata": {},
   "outputs": [],
   "source": [
    "\n",
    "P = np.array([\n",
    "    [-3.8, -2.1, 1.5, 4.3, -2.6, -2.5],\n",
    "    [-4.8, -1.9, 4.5,-0.5, 2.6, 2.4]\n",
    "])\n",
    "\n",
    "T = np.array([[1, 1, 1, 0, 1, 0]])"
   ]
  },
  {
   "cell_type": "markdown",
   "id": "fbb9766d",
   "metadata": {},
   "source": [
    "Инициализируем модель и посмотрим архитектуру:"
   ]
  },
  {
   "cell_type": "code",
   "execution_count": 9,
   "id": "50769aec",
   "metadata": {},
   "outputs": [
    {
     "name": "stderr",
     "output_type": "stream",
     "text": [
      "0it [00:00, ?it/s]"
     ]
    },
    {
     "name": "stdout",
     "output_type": "stream",
     "text": [
      " Input(n,2)  -->  Rosenblat Perceptrons(1)  -->  Output(n, 1)\n"
     ]
    },
    {
     "name": "stderr",
     "output_type": "stream",
     "text": [
      "\n"
     ]
    }
   ],
   "source": [
    "model = RosenblattLayer(0).fit(P, T)\n",
    "print(model.display())"
   ]
  },
  {
   "cell_type": "markdown",
   "id": "182d4ae1",
   "metadata": {},
   "source": [
    "Построение графика по весам модели:"
   ]
  },
  {
   "cell_type": "code",
   "execution_count": 11,
   "id": "35293fdf",
   "metadata": {},
   "outputs": [],
   "source": [
    "def plot_line(weights, bias):\n",
    "    x = list(np.arange(-5, 5, 0.01))\n",
    "    for i in range(bias.shape[0]):\n",
    "        w = weights[:, i].ravel()\n",
    "        b = bias[i]\n",
    "        y = list(map(lambda t: (-w[0]/w[1])*t - b/w[1], x))\n",
    "        plt.plot(x, y, label=\"Перцептрон №\" + str(i+1))"
   ]
  },
  {
   "cell_type": "code",
   "execution_count": 12,
   "id": "f306f11d",
   "metadata": {},
   "outputs": [
    {
     "data": {
      "text/plain": [
       "<matplotlib.legend.Legend at 0x7f54f0ac7dd8>"
      ]
     },
     "execution_count": 12,
     "metadata": {},
     "output_type": "execute_result"
    },
    {
     "data": {
      "image/png": "[encoded data removed]",
      "text/plain": [
       "<Figure size 1080x576 with 1 Axes>"
      ]
     },
     "metadata": {
      "needs_background": "light"
     },
     "output_type": "display_data"
    }
   ],
   "source": [
    "plt.figure(figsize=(15, 8))\n",
    "plot_line(model.weights(), model.bias())\n",
    "plt.scatter(P.T[T.ravel() == 0].T[0], P.T[T.ravel() == 0].T[1], label=\"Класс 1\")\n",
    "plt.scatter(P.T[T.ravel() == 1].T[0], P.T[T.ravel() == 1].T[1], label=\"Класс 2\")\n",
    "plt.title(\"Разделение случайными значениями\")\n",
    "plt.xlabel(\"x1\")\n",
    "plt.ylabel(\"x2\")\n",
    "plt.grid()\n",
    "plt.legend()"
   ]
  },
  {
   "cell_type": "markdown",
   "id": "5ba5bd23",
   "metadata": {},
   "source": [
    "\n",
    "Обучим модель на 50 эпох:"
   ]
  },
  {
   "cell_type": "code",
   "execution_count": 13,
   "id": "ea8606c7",
   "metadata": {},
   "outputs": [
    {
     "name": "stderr",
     "output_type": "stream",
     "text": [
      "100%|██████████| 50/50 [00:00<00:00, 7775.00it/s]\n"
     ]
    },
    {
     "data": {
      "text/plain": [
       "<__main__.RosenblattLayer at 0x7f54f1343588>"
      ]
     },
     "execution_count": 13,
     "metadata": {},
     "output_type": "execute_result"
    }
   ],
   "source": [
    "model.set_steps(50)\n",
    "model.set_early_stop(True)\n",
    "model.fit(P, T)"
   ]
  },
  {
   "cell_type": "markdown",
   "id": "beff8512",
   "metadata": {},
   "source": [
    "Результат обучения:"
   ]
  },
  {
   "cell_type": "code",
   "execution_count": 14,
   "id": "6d552ed1",
   "metadata": {},
   "outputs": [
    {
     "data": {
      "text/plain": [
       "<matplotlib.legend.Legend at 0x7f54f0a58128>"
      ]
     },
     "execution_count": 14,
     "metadata": {},
     "output_type": "execute_result"
    },
    {
     "data": {
      "image/png": "[encoded data removed]",
      "text/plain": [
       "<Figure size 1080x576 with 1 Axes>"
      ]
     },
     "metadata": {
      "needs_background": "light"
     },
     "output_type": "display_data"
    }
   ],
   "source": [
    "plt.figure(figsize=(15, 8))\n",
    "plot_line(model.weights(), model.bias())\n",
    "plt.scatter(P.T[T.ravel() == 0].T[0], P.T[T.ravel() == 0].T[1], label=\"Класс 1\")\n",
    "plt.scatter(P.T[T.ravel() == 1].T[0], P.T[T.ravel() == 1].T[1], label=\"Класс 2\")\n",
    "x = np.random.randint(-5, 4, 3) + np.random.random(3)\n",
    "y = np.random.randint(-5, 4, 3) + np.random.random(3)\n",
    "plt.scatter(x, y, color=\"red\", label=\"3 случайные точки\")\n",
    "plt.xlabel(\"x1\")\n",
    "plt.ylabel(\"x2\")\n",
    "\n",
    "plt.title(\"Разделение выборки обученным перцептроном\")\n",
    "plt.grid()\n",
    "plt.legend()"
   ]
  },
  {
   "cell_type": "code",
   "execution_count": 15,
   "id": "b688a04f",
   "metadata": {},
   "outputs": [
    {
     "name": "stdout",
     "output_type": "stream",
     "text": [
      "Test Data:\n",
      "[[-2.27891398 -2.39087079  1.61474385]\n",
      " [-2.70370122  0.70815301  3.41238253]]\n",
      "Predict:\n",
      "[[1. 0. 0.]]\n"
     ]
    }
   ],
   "source": [
    "test = np.append(x.reshape(1, 3), y.reshape(1, 3), axis=0)\n",
    "print(\"Test Data:\")\n",
    "print(test)\n",
    "print(\"Predict:\")\n",
    "print(model.predict_classes(test))"
   ]
  },
  {
   "cell_type": "markdown",
   "id": "b6137555",
   "metadata": {},
   "source": [
    "Выход модели на тренировочных данных:"
   ]
  },
  {
   "cell_type": "code",
   "execution_count": 16,
   "id": "9c1b4078",
   "metadata": {},
   "outputs": [
    {
     "data": {
      "text/plain": [
       "array([[ 3.78342180e+158, -2.88629326e+158, -1.83517547e+159,\n",
       "         2.13296164e+159, -2.86663534e+159, -2.71381075e+159]])"
      ]
     },
     "execution_count": 16,
     "metadata": {},
     "output_type": "execute_result"
    }
   ],
   "source": [
    "model.predict(P) ## result of net func"
   ]
  },
  {
   "cell_type": "markdown",
   "id": "40246dd2",
   "metadata": {},
   "source": [
    "Полученные классы:"
   ]
  },
  {
   "cell_type": "code",
   "execution_count": 17,
   "id": "f9531234",
   "metadata": {},
   "outputs": [
    {
     "data": {
      "text/plain": [
       "array([[1., 0., 0., 1., 0., 0.]])"
      ]
     },
     "execution_count": 17,
     "metadata": {},
     "output_type": "execute_result"
    }
   ],
   "source": [
    "model.predict_classes(P)"
   ]
  },
  {
   "cell_type": "code",
   "execution_count": 18,
   "id": "3f899788",
   "metadata": {},
   "outputs": [
    {
     "data": {
      "text/plain": [
       "1.7025924490743194e+159"
      ]
     },
     "execution_count": 18,
     "metadata": {},
     "output_type": "execute_result"
    }
   ],
   "source": [
    "model.score(P, T)"
   ]
  },
  {
   "cell_type": "markdown",
   "id": "c510eeff",
   "metadata": {},
   "source": [
    "Коэффиценты и смещения:"
   ]
  },
  {
   "cell_type": "code",
   "execution_count": 19,
   "id": "e06b316f",
   "metadata": {},
   "outputs": [
    {
     "name": "stdout",
     "output_type": "stream",
     "text": [
      "Веса:\n",
      "[[ 4.91741280e+158]\n",
      " [-5.18252304e+158]]\n",
      "Смещения:\n",
      "[-2.40652016e+158]\n"
     ]
    }
   ],
   "source": [
    "print(\"Веса:\")\n",
    "print(model.weights())\n",
    "print(\"Смещения:\")\n",
    "print(model.bias())"
   ]
  },
  {
   "cell_type": "markdown",
   "id": "e5a52bc9",
   "metadata": {},
   "source": [
    "## Задание №2\n",
    "Сделаем выборку неразделимой:"
   ]
  },
  {
   "cell_type": "code",
   "execution_count": 21,
   "id": "7444e765",
   "metadata": {},
   "outputs": [],
   "source": [
    "P = np.append(P, np.array([[0], [-4]]), axis=1)\n",
    "T = np.append(T, np.array([[1]]), axis=1)"
   ]
  },
  {
   "cell_type": "markdown",
   "id": "ab9d7e6a",
   "metadata": {},
   "source": [
    "\n",
    "Как видим обучение прошло все шаги:"
   ]
  },
  {
   "cell_type": "code",
   "execution_count": 22,
   "id": "d87ebfe4",
   "metadata": {},
   "outputs": [
    {
     "name": "stderr",
     "output_type": "stream",
     "text": [
      "100%|██████████| 50/50 [00:00<00:00, 3623.84it/s]\n"
     ]
    },
    {
     "data": {
      "text/plain": [
       "<__main__.RosenblattLayer at 0x7f54f0a8bb70>"
      ]
     },
     "execution_count": 22,
     "metadata": {},
     "output_type": "execute_result"
    }
   ],
   "source": [
    "model = RosenblattLayer(50, True)\n",
    "model.fit(P, T)"
   ]
  },
  {
   "cell_type": "markdown",
   "id": "9688afa6",
   "metadata": {},
   "source": [
    "Результат обучения:"
   ]
  },
  {
   "cell_type": "code",
   "execution_count": 24,
   "id": "0389c2c1",
   "metadata": {},
   "outputs": [
    {
     "data": {
      "text/plain": [
       "<matplotlib.legend.Legend at 0x7f54f09dc198>"
      ]
     },
     "execution_count": 24,
     "metadata": {},
     "output_type": "execute_result"
    },
    {
     "data": {
      "image/png": "[encoded data removed]",
      "text/plain": [
       "<Figure size 1080x576 with 1 Axes>"
      ]
     },
     "metadata": {
      "needs_background": "light"
     },
     "output_type": "display_data"
    }
   ],
   "source": [
    "plt.figure(figsize=(15, 8))\n",
    "plot_line(model.weights(), model.bias())\n",
    "plt.scatter(P.T[T.ravel() == 0].T[0], P.T[T.ravel() == 0].T[1], label=\"Класс 1\")\n",
    "plt.scatter(P.T[T.ravel() == 1].T[0], P.T[T.ravel() == 1].T[1], label=\"Класс 2\")\n",
    "plt.xlabel(\"x1\")\n",
    "plt.ylabel(\"x2\")\n",
    "\n",
    "plt.title(\"Разделение неразделимой выборки одним перцептроном\")\n",
    "plt.grid()\n",
    "plt.legend()"
   ]
  },
  {
   "cell_type": "markdown",
   "id": "d9e43f0e",
   "metadata": {},
   "source": [
    "Как видим, модель допускает ошибки:"
   ]
  },
  {
   "cell_type": "code",
   "execution_count": 25,
   "id": "a5090e02",
   "metadata": {},
   "outputs": [
    {
     "data": {
      "text/plain": [
       "array([[ True, False, False, False, False,  True,  True]])"
      ]
     },
     "execution_count": 25,
     "metadata": {},
     "output_type": "execute_result"
    }
   ],
   "source": [
    "model.predict_classes(P) == T # only 2 true\n"
   ]
  },
  {
   "cell_type": "markdown",
   "id": "ea5b2105",
   "metadata": {},
   "source": [
    "## Задание №3\n",
    "Данные:"
   ]
  },
  {
   "cell_type": "code",
   "execution_count": 26,
   "id": "7bda808b",
   "metadata": {},
   "outputs": [],
   "source": [
    "P = np.array([\n",
    "    [-4.0, -3.4, 0.7, 4.3, 2.3, 3.6, 4.8, 2.8],\n",
    "    [-3.6, 1.2, -4.5, 2.2, -4.4, 4.3, 3.5, 0.1]\n",
    "])\n",
    "\n",
    "T = np.array([\n",
    "    [0, 0, 0, 1, 0, 1, 1, 0],\n",
    "    [1, 1, 0, 0, 0, 1, 0, 0]\n",
    "])"
   ]
  },
  {
   "cell_type": "markdown",
   "id": "59409e40",
   "metadata": {},
   "source": [
    "Модель и ее структура:"
   ]
  },
  {
   "cell_type": "code",
   "execution_count": 27,
   "id": "447e0ea4",
   "metadata": {},
   "outputs": [
    {
     "name": "stderr",
     "output_type": "stream",
     "text": [
      "0it [00:00, ?it/s]"
     ]
    },
    {
     "name": "stdout",
     "output_type": "stream",
     "text": [
      " Input(n,2)  -->  Rosenblat Perceptrons(2)  -->  Output(n, 2)\n"
     ]
    },
    {
     "name": "stderr",
     "output_type": "stream",
     "text": [
      "\n"
     ]
    }
   ],
   "source": [
    "model = RosenblattLayer(0).fit(P, T)\n",
    "print(model.display())"
   ]
  },
  {
   "cell_type": "code",
   "execution_count": 28,
   "id": "5f388927",
   "metadata": {},
   "outputs": [
    {
     "name": "stderr",
     "output_type": "stream",
     "text": [
      "100%|██████████| 50/50 [00:00<00:00, 5237.12it/s]\n"
     ]
    },
    {
     "data": {
      "text/plain": [
       "<__main__.RosenblattLayer at 0x7f54f09a5c88>"
      ]
     },
     "execution_count": 28,
     "metadata": {},
     "output_type": "execute_result"
    }
   ],
   "source": [
    "model.set_steps(50)\n",
    "model.set_early_stop(True)\n",
    "model.fit(P, T)"
   ]
  },
  {
   "cell_type": "markdown",
   "id": "db32325c",
   "metadata": {},
   "source": [
    "Посмотрим на разделение:"
   ]
  },
  {
   "cell_type": "code",
   "execution_count": 29,
   "id": "960c5d20",
   "metadata": {},
   "outputs": [
    {
     "data": {
      "text/plain": [
       "<matplotlib.legend.Legend at 0x7f54f09561d0>"
      ]
     },
     "execution_count": 29,
     "metadata": {},
     "output_type": "execute_result"
    },
    {
     "data": {
      "image/png": "[encoded data removed]",
      "text/plain": [
       "<Figure size 1080x576 with 1 Axes>"
      ]
     },
     "metadata": {
      "needs_background": "light"
     },
     "output_type": "display_data"
    }
   ],
   "source": [
    "\n",
    "plt.figure(figsize=(15, 8))\n",
    "plot_line(model.weights(), model.bias())\n",
    "plt.scatter(\n",
    "    P.T[(T[0] == 0) & (T[1] == 0)].T[0], \n",
    "    P.T[(T[0] == 0) & (T[1] == 0)].T[1], \n",
    "    label=\"Класс 1\"\n",
    ")\n",
    "plt.scatter(\n",
    "    P.T[(T[0] == 0) & (T[1] == 1)].T[0], \n",
    "    P.T[(T[0] == 0) & (T[1] == 1)].T[1], \n",
    "    label=\"Класс 2\"\n",
    ")\n",
    "plt.scatter(\n",
    "    P.T[(T[0] == 1) & (T[1] == 0)].T[0], \n",
    "    P.T[(T[0] == 1) & (T[1] == 0)].T[1], \n",
    "    label=\"Класс 3\"\n",
    ")\n",
    "plt.scatter(\n",
    "    P.T[(T[0] == 1) & (T[1] == 1)].T[0], \n",
    "    P.T[(T[0] == 1) & (T[1] == 1)].T[1], \n",
    "    label=\"Класс 4\"\n",
    ")\n",
    "\n",
    "x = np.random.randint(-5, 4, 5) + np.random.random(5)\n",
    "y = np.random.randint(-5, 4, 5) + np.random.random(5)\n",
    "\n",
    "plt.xlabel(\"x1\")\n",
    "plt.ylabel(\"x2\")\n",
    "plt.scatter(x, y, color=\"yellow\", label=\"5 случайных точек\")\n",
    "\n",
    "plt.title(\"Разделение 2-мя обученными перцептронами\")\n",
    "plt.grid()\n",
    "plt.legend()"
   ]
  },
  {
   "cell_type": "code",
   "execution_count": 30,
   "id": "b7b69139",
   "metadata": {},
   "outputs": [
    {
     "name": "stdout",
     "output_type": "stream",
     "text": [
      "Test Data:\n",
      "[[-2.79057734 -1.45668659  0.29355773  2.62472149 -4.54178005]\n",
      " [ 0.22895647 -2.9520829   0.59579059 -3.50952682  1.2669399 ]]\n",
      "Predict:\n",
      "[[1. 1. 0. 0. 1.]\n",
      " [1. 1. 0. 0. 1.]]\n"
     ]
    }
   ],
   "source": [
    "test = np.append(x.reshape(1, 5), y.reshape(1, 5), axis=0)\n",
    "print(\"Test Data:\")\n",
    "print(test)\n",
    "print(\"Predict:\")\n",
    "print(model.predict_classes(test))"
   ]
  },
  {
   "cell_type": "code",
   "execution_count": 31,
   "id": "7ddb0a1c",
   "metadata": {},
   "outputs": [
    {
     "name": "stdout",
     "output_type": "stream",
     "text": [
      "Веса:\n",
      "[[-8.77308336e+091 -6.67181680e+221]\n",
      " [ 1.02610626e+091 -4.78576181e+221]]\n",
      "Смещения:\n",
      "[-4.07416642e+091 -1.37963142e+221]\n"
     ]
    }
   ],
   "source": [
    "print(\"Веса:\")\n",
    "print(model.weights())\n",
    "print(\"Смещения:\")\n",
    "print(model.bias())"
   ]
  }
 ],
 "metadata": {
  "kernelspec": {
   "display_name": "Python 3",
   "language": "python",
   "name": "python3"
  },
  "language_info": {
   "codemirror_mode": {
    "name": "ipython",
    "version": 3
   },
   "file_extension": ".py",
   "mimetype": "text/x-python",
   "name": "python",
   "nbconvert_exporter": "python",
   "pygments_lexer": "ipython3",
   "version": "3.6.9"
  }
 },
 "nbformat": 4,
 "nbformat_minor": 5
}
