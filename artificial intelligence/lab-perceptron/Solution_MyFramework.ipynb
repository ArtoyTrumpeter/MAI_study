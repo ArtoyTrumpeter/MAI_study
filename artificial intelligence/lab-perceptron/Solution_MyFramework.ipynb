{
 "cells": [
  {
   "cell_type": "markdown",
   "id": "3b5ec7ba",
   "metadata": {},
   "source": [
    "## Лабораторная работа по курсу \"Искусственный интеллект\"\n",
    "## Многослойный персептрон\n",
    "\n",
    "| Студент | Тояков |\n",
    "|---------|--------|\n",
    "| Группа  | 407    |\n",
    "\n",
    "Используемый датасет представляет собой множество написанных вручную цифр, от 0 до 9 включительно."
   ]
  },
  {
   "cell_type": "markdown",
   "id": "c595040d",
   "metadata": {},
   "source": [
    "Перед загрузкой данных следует заранее добавить все используемые библиотеки:"
   ]
  },
  {
   "cell_type": "code",
   "execution_count": 29,
   "id": "172514ab",
   "metadata": {},
   "outputs": [],
   "source": [
    "import numpy as np\n",
    "import pandas as pd\n",
    "import pickle\n",
    "import matplotlib.pyplot as plt \n",
    "from sklearn.model_selection import train_test_split\n",
    "from sklearn.metrics         import confusion_matrix, ConfusionMatrixDisplay   \n",
    "\n",
    "# Custom libraries\n",
    "from deeplearn.layers   import Layer, Softmax, CrossEntropyLoss\n",
    "from deeplearn.nnetwork import NeuralNetwork"
   ]
  },
  {
   "cell_type": "markdown",
   "id": "c26ab34a",
   "metadata": {},
   "source": [
    "Собственно сама загрузка данных:"
   ]
  },
  {
   "cell_type": "code",
   "execution_count": 30,
   "id": "001527d8",
   "metadata": {},
   "outputs": [],
   "source": [
    "import pickle\n",
    "with open('mnist.pkl','rb') as f:\n",
    "    MNIST = pickle.load(f)"
   ]
  },
  {
   "cell_type": "markdown",
   "id": "8b43f07c",
   "metadata": {},
   "source": [
    "В переменной MNIST под ключем Train содержатся данные, разделенные на особенности и метки соответственно, но в ней нет данных для тестирования. Их можно сразу разделить:"
   ]
  },
  {
   "cell_type": "code",
   "execution_count": 31,
   "id": "a14b94dc",
   "metadata": {},
   "outputs": [
    {
     "data": {
      "text/plain": [
       "(29400, 784)"
      ]
     },
     "execution_count": 31,
     "metadata": {},
     "output_type": "execute_result"
    }
   ],
   "source": [
    "X_train, X_test, y_train, y_test = train_test_split(\n",
    "    np.array(MNIST['Train']['Features'].astype(np.float32) / 255),\n",
    "    np.array(MNIST['Train']['Labels']),\n",
    "    test_size=0.3)\n",
    "\n",
    "X_train.shape"
   ]
  },
  {
   "cell_type": "markdown",
   "id": "6e4a0392",
   "metadata": {},
   "source": [
    "\n",
    "Особенности нормализуются сразу (делением на $255$).\n",
    "\n",
    "Создание и конфигурация нейронной сети:"
   ]
  },
  {
   "cell_type": "code",
   "execution_count": 32,
   "id": "ac0b632b",
   "metadata": {},
   "outputs": [],
   "source": [
    "nnet = NeuralNetwork()\n",
    "nnet.configure(epoch=10, learning_rate=0.03, batch_size=5)\n",
    "nnet.add_layer(Layer(784, 10))\n",
    "nnet.add_layer(Softmax())"
   ]
  },
  {
   "cell_type": "code",
   "execution_count": 33,
   "id": "5db6ce0d",
   "metadata": {},
   "outputs": [
    {
     "name": "stdout",
     "output_type": "stream",
     "text": [
      "CPU times: user 5.91 s, sys: 1.96 ms, total: 5.91 s\n",
      "Wall time: 5.91 s\n"
     ]
    }
   ],
   "source": [
    "%time nnet.train(X_train, y_train)"
   ]
  },
  {
   "cell_type": "code",
   "execution_count": 34,
   "id": "308e6bb3",
   "metadata": {},
   "outputs": [
    {
     "data": {
      "text/plain": [
       "array([[2.77520097e-04, 1.43978540e-05, 2.59680366e-04, ...,\n",
       "        1.14385118e-08, 1.20174065e-03, 1.28879874e-05],\n",
       "       [5.81974930e-11, 9.85882621e-01, 2.84459398e-05, ...,\n",
       "        2.53358520e-05, 2.78944007e-03, 9.50977355e-04],\n",
       "       [1.02345146e-08, 4.49884834e-10, 1.08505669e-08, ...,\n",
       "        9.60834339e-06, 4.36407019e-02, 6.98664270e-03],\n",
       "       ...,\n",
       "       [1.22332083e-04, 4.99147629e-03, 1.41175462e-02, ...,\n",
       "        1.61740043e-03, 5.41348392e-04, 6.35232306e-05],\n",
       "       [5.04494707e-08, 9.95080334e-01, 1.71427531e-03, ...,\n",
       "        3.65305511e-04, 1.77704007e-03, 8.16643702e-05],\n",
       "       [8.03919159e-05, 8.05449491e-06, 6.00707325e-05, ...,\n",
       "        6.56345937e-01, 9.42614751e-04, 3.26970151e-01]])"
      ]
     },
     "execution_count": 34,
     "metadata": {},
     "output_type": "execute_result"
    }
   ],
   "source": [
    "y_predict = nnet.predict(X_test)\n",
    "y_predict"
   ]
  },
  {
   "cell_type": "markdown",
   "id": "122b0d83",
   "metadata": {},
   "source": [
    "\n",
    "Нейронная сеть возвращает матрицу вероятностей, каждая строка, в которой содержатся вероятности для каждого числа, соответствует входному образцу на этой же строке. Построчная сумма вероятностей равна единице (из определения Softmax):"
   ]
  },
  {
   "cell_type": "code",
   "execution_count": 35,
   "id": "743595e5",
   "metadata": {},
   "outputs": [
    {
     "data": {
      "text/plain": [
       "1.0"
      ]
     },
     "execution_count": 35,
     "metadata": {},
     "output_type": "execute_result"
    }
   ],
   "source": [
    "y_predict[0].sum()"
   ]
  },
  {
   "cell_type": "markdown",
   "id": "289158fa",
   "metadata": {},
   "source": [
    "Для получения числа из каждой строки, нужно взять индекс максимума для каждой строки (индексы соответствуют меткам):"
   ]
  },
  {
   "cell_type": "code",
   "execution_count": 36,
   "id": "1c066a28",
   "metadata": {},
   "outputs": [],
   "source": [
    "y_predict = np.argmax(y_predict, axis=1)"
   ]
  },
  {
   "cell_type": "code",
   "execution_count": 37,
   "id": "c56b1dba",
   "metadata": {},
   "outputs": [
    {
     "data": {
      "text/plain": [
       "0.9157142857142857"
      ]
     },
     "execution_count": 37,
     "metadata": {},
     "output_type": "execute_result"
    }
   ],
   "source": [
    "(y_predict == y_test).mean()"
   ]
  },
  {
   "cell_type": "markdown",
   "id": "7fca9e8f",
   "metadata": {},
   "source": [
    "При всех повторных запусках точность была больше $90\\%$, но не исключено, что она может быть низкой из-за неудачного начального распределения весов при обучении.\n",
    "\n",
    "Матрица ошибок имеет вид:"
   ]
  },
  {
   "cell_type": "code",
   "execution_count": 38,
   "id": "68607c87",
   "metadata": {},
   "outputs": [
    {
     "data": {
      "text/plain": [
       "<sklearn.metrics._plot.confusion_matrix.ConfusionMatrixDisplay at 0x7fe9c3b62cf8>"
      ]
     },
     "execution_count": 38,
     "metadata": {},
     "output_type": "execute_result"
    },
    {
     "data": {
      "image/png": "[encoded data removed]",
      "text/plain": [
       "<Figure size 432x288 with 2 Axes>"
      ]
     },
     "metadata": {
      "needs_background": "light"
     },
     "output_type": "display_data"
    }
   ],
   "source": [
    "ConfusionMatrixDisplay(confusion_matrix(y_test, y_predict)).plot()"
   ]
  },
  {
   "cell_type": "markdown",
   "id": "5bef1efc",
   "metadata": {},
   "source": [
    "Интересно заметить, что большая часть ошибок появляется при определении числа 5.\n",
    "\n",
    "Текущая конфигурация системы работает достаточно хорошо, но не достаточно быстро (~6 секунд за одну тренировку), что не есть хорошо. Скорость можно улучшить следующими способами:\n",
    "\n",
    "    1) Уменьшить количество эпох;\n",
    "    2) Увеличить коэффициент скорости тренировки;\n",
    "    3) Увеличить количество обрабатываемых данных за один проход (размер батчей).\\\n",
    "\n",
    "Начинать лучше с последнего метода, так как первый метод имеет большой шанс уменьшения точности, а второй - риск, что тренировка будет перескакивать минимум. Третий метод является наилучшим (хотя бы в данном случае), так как для таких больших данных явно теряется скорость из-за обработки только пяти образцов за раз. Пусть сеть будет обрабатывать за раз 20 образцов (остальные настройки те же):"
   ]
  },
  {
   "cell_type": "code",
   "execution_count": 39,
   "id": "1c377191",
   "metadata": {},
   "outputs": [],
   "source": [
    "nnet = NeuralNetwork()\n",
    "nnet.configure(epoch=10, learning_rate=0.03, batch_size=20)\n",
    "nnet.add_layer(Layer(784, 10))\n",
    "nnet.add_layer(Softmax())"
   ]
  },
  {
   "cell_type": "code",
   "execution_count": 40,
   "id": "a11014bf",
   "metadata": {},
   "outputs": [
    {
     "name": "stdout",
     "output_type": "stream",
     "text": [
      "CPU times: user 2.06 s, sys: 1.75 ms, total: 2.06 s\n",
      "Wall time: 2.06 s\n"
     ]
    }
   ],
   "source": [
    "%time nnet.train(X_train, y_train)"
   ]
  },
  {
   "cell_type": "code",
   "execution_count": 41,
   "id": "f2cdd55c",
   "metadata": {},
   "outputs": [
    {
     "data": {
      "text/plain": [
       "0.9164285714285715"
      ]
     },
     "execution_count": 41,
     "metadata": {},
     "output_type": "execute_result"
    }
   ],
   "source": [
    "y_predict = np.argmax(nnet.predict(X_test), axis=1)\n",
    "(y_predict == y_test).mean()"
   ]
  },
  {
   "cell_type": "markdown",
   "id": "a15f52ab",
   "metadata": {},
   "source": [
    "\n",
    "Точность сравнительно не изменилась, но скорость явно увеличилась в три раза.\n",
    "\n",
    "Для графической демонстрации, тренировка нейронной сети будет выполняться одну эпоху, после чего высчитывается текущая точность. Это повторится 10 раз, что эквивалентно тренировки в промежутке 10 эпох:"
   ]
  },
  {
   "cell_type": "code",
   "execution_count": 42,
   "id": "6f66b543",
   "metadata": {},
   "outputs": [
    {
     "data": {
      "image/png": "[encoded data removed]",
      "text/plain": [
       "<Figure size 432x288 with 1 Axes>"
      ]
     },
     "metadata": {
      "needs_background": "light"
     },
     "output_type": "display_data"
    }
   ],
   "source": [
    "def get_loss_acc(net, x, y, loss=CrossEntropyLoss()):\n",
    "    y_pred = net._forward_calc(x)\n",
    "    l = loss.calc_forward(y_pred, y)\n",
    "    pred = np.argmax(y_pred, axis=1)\n",
    "    acc = (pred == y).mean()\n",
    "    return l, acc\n",
    "\n",
    "def train_plot(net, count=30):\n",
    "    train_accuracies = []\n",
    "    test_accuracies  = []\n",
    "    \n",
    "    for i in range(count + 1):\n",
    "        _, train_a = get_loss_acc(nnet, X_train, y_train)\n",
    "        _, test_a  = get_loss_acc(nnet, X_test, y_test)\n",
    "        \n",
    "        train_accuracies.append(train_a)\n",
    "        test_accuracies.append(test_a)\n",
    "        \n",
    "        nnet.train(X_train, y_train)\n",
    "\n",
    "    plt.plot(range(count + 1), train_accuracies, 'g-')\n",
    "    plt.plot(range(count + 1), test_accuracies,  'k--')\n",
    "    plt.legend(['Training accuracy', 'Validation accuracy'], loc='lower center')\n",
    "    plt.show()\n",
    "    \n",
    "nnet = NeuralNetwork()\n",
    "nnet.configure(epoch=1, learning_rate=0.03, batch_size=20)\n",
    "nnet.add_layer(Layer(784, 10))\n",
    "nnet.add_layer(Softmax())\n",
    "train_plot(nnet, 10)"
   ]
  },
  {
   "cell_type": "markdown",
   "id": "666d9267",
   "metadata": {},
   "source": [
    "\n",
    "Из графика можно сделать два вывода:\n",
    "\n",
    "    1) Уже после первой эпохи точность близка к предельно возможной для данной конфигурации\n",
    "    2) Разность между точностями на обучающих и тренировочных образцах минимальна, что означает отсутствие переобучения\n",
    "\n",
    "Стоит еще дополнительно заметить, что процент точности можно увеличить, если увеличить количество промежуточных нейронов (но для этого нужно добавить дополнительный слой):"
   ]
  },
  {
   "cell_type": "code",
   "execution_count": 43,
   "id": "adf422f4",
   "metadata": {},
   "outputs": [
    {
     "name": "stdout",
     "output_type": "stream",
     "text": [
      "CPU times: user 2min 23s, sys: 1min 36s, total: 3min 59s\n",
      "Wall time: 32.7 s\n"
     ]
    },
    {
     "data": {
      "text/plain": [
       "0.9553174603174603"
      ]
     },
     "execution_count": 43,
     "metadata": {},
     "output_type": "execute_result"
    }
   ],
   "source": [
    "nnet = NeuralNetwork()\n",
    "nnet.configure(epoch=10, learning_rate=0.03, batch_size=20)\n",
    "nnet.add_layer(Layer(784, 128, activator_type='tanh'))\n",
    "nnet.add_layer(Layer(128, 10))\n",
    "nnet.add_layer(Softmax())\n",
    "\n",
    "%time nnet.train(X_train, y_train)\n",
    "\n",
    "y_predict = np.argmax(nnet.predict(X_test), axis=1)\n",
    "(y_predict == y_test).mean()"
   ]
  },
  {
   "cell_type": "markdown",
   "id": "162e86a2",
   "metadata": {},
   "source": [
    "Но для этих 4-5 процент уходит много ресурсов, поэтому так следует поступать только при необходимости."
   ]
  }
 ],
 "metadata": {
  "kernelspec": {
   "display_name": "Python 3",
   "language": "python",
   "name": "python3"
  },
  "language_info": {
   "codemirror_mode": {
    "name": "ipython",
    "version": 3
   },
   "file_extension": ".py",
   "mimetype": "text/x-python",
   "name": "python",
   "nbconvert_exporter": "python",
   "pygments_lexer": "ipython3",
   "version": "3.6.9"
  }
 },
 "nbformat": 4,
 "nbformat_minor": 5
}
