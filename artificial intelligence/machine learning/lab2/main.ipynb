{
 "cells": [
  {
   "cell_type": "markdown",
   "metadata": {},
   "source": [
    "# Лабораторная работа №2 по курсу \"Машинное обучение\"\n",
    "\n",
    "Тояков Артем М8О-407Б-18 Вариант:22\n",
    "\n",
    "## Датасет\n",
    "\n",
    "Для начала я загружу датасет пассажиров с титаника из первой лабораторной работы."
   ]
  },
  {
   "cell_type": "code",
   "execution_count": 75,
   "metadata": {},
   "outputs": [
    {
     "data": {
      "text/html": [
       "<div>\n",
       "<style scoped>\n",
       "    .dataframe tbody tr th:only-of-type {\n",
       "        vertical-align: middle;\n",
       "    }\n",
       "\n",
       "    .dataframe tbody tr th {\n",
       "        vertical-align: top;\n",
       "    }\n",
       "\n",
       "    .dataframe thead th {\n",
       "        text-align: right;\n",
       "    }\n",
       "</style>\n",
       "<table border=\"1\" class=\"dataframe\">\n",
       "  <thead>\n",
       "    <tr style=\"text-align: right;\">\n",
       "      <th></th>\n",
       "      <th>Survived</th>\n",
       "      <th>Pclass</th>\n",
       "      <th>Sex</th>\n",
       "      <th>Age</th>\n",
       "      <th>SibSp</th>\n",
       "      <th>Parch</th>\n",
       "      <th>Fare</th>\n",
       "      <th>Embarked</th>\n",
       "    </tr>\n",
       "  </thead>\n",
       "  <tbody>\n",
       "    <tr>\n",
       "      <th>0</th>\n",
       "      <td>0</td>\n",
       "      <td>3</td>\n",
       "      <td>0</td>\n",
       "      <td>22.000000</td>\n",
       "      <td>1</td>\n",
       "      <td>0</td>\n",
       "      <td>7.2500</td>\n",
       "      <td>0</td>\n",
       "    </tr>\n",
       "    <tr>\n",
       "      <th>1</th>\n",
       "      <td>1</td>\n",
       "      <td>1</td>\n",
       "      <td>1</td>\n",
       "      <td>38.000000</td>\n",
       "      <td>1</td>\n",
       "      <td>0</td>\n",
       "      <td>71.2833</td>\n",
       "      <td>1</td>\n",
       "    </tr>\n",
       "    <tr>\n",
       "      <th>2</th>\n",
       "      <td>1</td>\n",
       "      <td>3</td>\n",
       "      <td>1</td>\n",
       "      <td>26.000000</td>\n",
       "      <td>0</td>\n",
       "      <td>0</td>\n",
       "      <td>7.9250</td>\n",
       "      <td>0</td>\n",
       "    </tr>\n",
       "    <tr>\n",
       "      <th>3</th>\n",
       "      <td>1</td>\n",
       "      <td>1</td>\n",
       "      <td>1</td>\n",
       "      <td>35.000000</td>\n",
       "      <td>1</td>\n",
       "      <td>0</td>\n",
       "      <td>53.1000</td>\n",
       "      <td>0</td>\n",
       "    </tr>\n",
       "    <tr>\n",
       "      <th>4</th>\n",
       "      <td>0</td>\n",
       "      <td>3</td>\n",
       "      <td>0</td>\n",
       "      <td>35.000000</td>\n",
       "      <td>0</td>\n",
       "      <td>0</td>\n",
       "      <td>8.0500</td>\n",
       "      <td>0</td>\n",
       "    </tr>\n",
       "    <tr>\n",
       "      <th>...</th>\n",
       "      <td>...</td>\n",
       "      <td>...</td>\n",
       "      <td>...</td>\n",
       "      <td>...</td>\n",
       "      <td>...</td>\n",
       "      <td>...</td>\n",
       "      <td>...</td>\n",
       "      <td>...</td>\n",
       "    </tr>\n",
       "    <tr>\n",
       "      <th>886</th>\n",
       "      <td>0</td>\n",
       "      <td>2</td>\n",
       "      <td>0</td>\n",
       "      <td>27.000000</td>\n",
       "      <td>0</td>\n",
       "      <td>0</td>\n",
       "      <td>13.0000</td>\n",
       "      <td>0</td>\n",
       "    </tr>\n",
       "    <tr>\n",
       "      <th>887</th>\n",
       "      <td>1</td>\n",
       "      <td>1</td>\n",
       "      <td>1</td>\n",
       "      <td>19.000000</td>\n",
       "      <td>0</td>\n",
       "      <td>0</td>\n",
       "      <td>30.0000</td>\n",
       "      <td>0</td>\n",
       "    </tr>\n",
       "    <tr>\n",
       "      <th>888</th>\n",
       "      <td>0</td>\n",
       "      <td>3</td>\n",
       "      <td>1</td>\n",
       "      <td>29.699118</td>\n",
       "      <td>1</td>\n",
       "      <td>2</td>\n",
       "      <td>23.4500</td>\n",
       "      <td>0</td>\n",
       "    </tr>\n",
       "    <tr>\n",
       "      <th>889</th>\n",
       "      <td>1</td>\n",
       "      <td>1</td>\n",
       "      <td>0</td>\n",
       "      <td>26.000000</td>\n",
       "      <td>0</td>\n",
       "      <td>0</td>\n",
       "      <td>30.0000</td>\n",
       "      <td>1</td>\n",
       "    </tr>\n",
       "    <tr>\n",
       "      <th>890</th>\n",
       "      <td>0</td>\n",
       "      <td>3</td>\n",
       "      <td>0</td>\n",
       "      <td>32.000000</td>\n",
       "      <td>0</td>\n",
       "      <td>0</td>\n",
       "      <td>7.7500</td>\n",
       "      <td>2</td>\n",
       "    </tr>\n",
       "  </tbody>\n",
       "</table>\n",
       "<p>891 rows × 8 columns</p>\n",
       "</div>"
      ],
      "text/plain": [
       "     Survived  Pclass  Sex        Age  SibSp  Parch     Fare  Embarked\n",
       "0           0       3    0  22.000000      1      0   7.2500         0\n",
       "1           1       1    1  38.000000      1      0  71.2833         1\n",
       "2           1       3    1  26.000000      0      0   7.9250         0\n",
       "3           1       1    1  35.000000      1      0  53.1000         0\n",
       "4           0       3    0  35.000000      0      0   8.0500         0\n",
       "..        ...     ...  ...        ...    ...    ...      ...       ...\n",
       "886         0       2    0  27.000000      0      0  13.0000         0\n",
       "887         1       1    1  19.000000      0      0  30.0000         0\n",
       "888         0       3    1  29.699118      1      2  23.4500         0\n",
       "889         1       1    0  26.000000      0      0  30.0000         1\n",
       "890         0       3    0  32.000000      0      0   7.7500         2\n",
       "\n",
       "[891 rows x 8 columns]"
      ]
     },
     "execution_count": 75,
     "metadata": {},
     "output_type": "execute_result"
    }
   ],
   "source": [
    "import pandas as pd\n",
    "import numpy as np\n",
    "\n",
    "data = pd.read_csv('titanic.csv')\n",
    "data = data.drop(['PassengerId', 'Ticket', 'Name', 'Cabin'], axis=1)\n",
    "data['Sex'] = data['Sex'].map({'female': 1, 'male': 0}).astype(int)\n",
    "data['Age'] = data['Age'].fillna(data['Age'].mean())\n",
    "freq_port = data.Embarked.dropna().mode()[0]\n",
    "data['Embarked'] = data['Embarked'].fillna(freq_port)\n",
    "data['Embarked'] = data['Embarked'].map( {'S': 0, 'C': 1, 'Q': 2} ).astype(int)\n",
    "data"
   ]
  },
  {
   "cell_type": "markdown",
   "metadata": {},
   "source": [
    "Наша задача определить: выжил пассажир или нет."
   ]
  },
  {
   "cell_type": "code",
   "execution_count": 76,
   "metadata": {},
   "outputs": [],
   "source": [
    "from sklearn.model_selection import train_test_split\n",
    "from sklearn.linear_model import LogisticRegression\n",
    "from sklearn.metrics import *\n",
    "\n",
    "X, y = data.drop(columns=['Survived']).to_numpy(), np.array(data['Survived'])\n",
    "X_train, X_test, y_train, y_test = train_test_split(X, Y, test_size=0.15, random_state=15)"
   ]
  },
  {
   "cell_type": "markdown",
   "metadata": {},
   "source": [
    "## Логистическая регрессия\n",
    "\n",
    "Добавим удобные функции для оценки результата и сигмоиду, которая будет использоваться в логистической регрессии."
   ]
  },
  {
   "cell_type": "code",
   "execution_count": 77,
   "metadata": {},
   "outputs": [],
   "source": [
    "def score_prediction(y_pred, y_test):\n",
    "    print(\"confusion matrix:\\n\", confusion_matrix(y_test, y_pred))\n",
    "    print(\"accuracy:\", accuracy_score(y_test, y_pred))\n",
    "    print(\"precision:\", precision_score(y_test, y_pred))\n",
    "    print(\"recall:\", recall_score(y_test, y_pred))\n",
    "    print(\"f1_score\", f1_score(y_test, y_pred))\n",
    "    \n",
    "def sigmoid(z):\n",
    "    return 1 / (1 + np.exp(-z))"
   ]
  },
  {
   "cell_type": "markdown",
   "metadata": {},
   "source": [
    "Реализацию логистической регрессии запишем в класс."
   ]
  },
  {
   "cell_type": "code",
   "execution_count": 78,
   "metadata": {},
   "outputs": [],
   "source": [
    "class MyLogisticRegression:\n",
    "    def __init__(self, lr, max_iter = 10000):\n",
    "        self.max_iter = max_iter\n",
    "        self.lr = lr\n",
    "\n",
    "    def fit(self, X, y):\n",
    "        X = np.hstack((np.full((X.shape[0], 1), 1),X))\n",
    "        weights = np.random.rand(X.shape[1])\n",
    "        for i in range(self.max_iter):\n",
    "            old_weights = weights.copy()\n",
    "            weights -= self.lr * np.dot(X.T, sigmoid(np.dot(X, weights)) - y) / len(X)\n",
    "        self.weights = weights\n",
    "\n",
    "    def predict(self, X):\n",
    "        X = np.hstack((np.full((X.shape[0], 1), 1), X))\n",
    "        labels = []\n",
    "        for row in X:\n",
    "            labels.append(int(sigmoid(np.dot(row, self.weights)) > 0.5))\n",
    "        return labels"
   ]
  },
  {
   "cell_type": "markdown",
   "metadata": {},
   "source": [
    "Проверим, насколько точна реализованная нами регрессия."
   ]
  },
  {
   "cell_type": "code",
   "execution_count": 79,
   "metadata": {},
   "outputs": [
    {
     "name": "stdout",
     "output_type": "stream",
     "text": [
      "My implementation: max accuracy with learning rate = 0.01 and max iterations = 1000\n",
      "confusion matrix:\n",
      " [[48 26]\n",
      " [ 8 52]]\n",
      "accuracy: 0.746268656716418\n",
      "precision: 0.6666666666666666\n",
      "recall: 0.8666666666666667\n",
      "f1_score 0.7536231884057971\n"
     ]
    }
   ],
   "source": [
    "from sklearn.preprocessing import *\n",
    "\n",
    "max_accuracy = 0\n",
    "max_params = (0,0)\n",
    "y_pred_max = 0\n",
    "for lr, max_iter in [(0.1, 100), (0.01, 100), (0.1, 1000), (0.01, 1000), (0.1, 10000), (0.01, 10000)]:\n",
    "    model = MyLogisticRegression(lr=lr, max_iter=max_iter)\n",
    "    model.fit(Xtrain, Ytrain)\n",
    "    y_pred = model.predict(Xtest)\n",
    "    acc = accuracy_score(y_pred, Ytest)\n",
    "    if acc > max_accuracy:\n",
    "        max_params = (lr, max_iter)\n",
    "        max_accuracy = acc\n",
    "        y_pred_max = y_pred\n",
    "print(\"My implementation: max accuracy with learning rate = {} and max iterations = {}\"\n",
    "      .format(*max_params))\n",
    "score_prediction(y_pred_max, y_test)"
   ]
  },
  {
   "cell_type": "markdown",
   "metadata": {},
   "source": [
    "Посмотрим теперь на точность регрессии из библиотеки sklearn."
   ]
  },
  {
   "cell_type": "code",
   "execution_count": 80,
   "metadata": {},
   "outputs": [
    {
     "name": "stdout",
     "output_type": "stream",
     "text": [
      "Sklearn implementation accuracy 0.7910447761194029\n"
     ]
    }
   ],
   "source": [
    "model = LogisticRegression(max_iter=10000)\n",
    "model.fit(Xtrain,Ytrain)\n",
    "print(\"Sklearn implementation accuracy {}\".format(accuracy_score(model.predict(Xtest), Ytest)))"
   ]
  },
  {
   "cell_type": "markdown",
   "metadata": {},
   "source": [
    "Как можно заметить, точности почти идентичны. Точность моей реализации не идельна, но при этом довольно высокая, из чего можно сделать вывод, что логистическая регрессия хорошо подходит для решения данной задачи."
   ]
  },
  {
   "cell_type": "markdown",
   "metadata": {},
   "source": [
    "## Дерево решений\n",
    "\n",
    "Вершину дерева и её параметры поместим в класс."
   ]
  },
  {
   "cell_type": "code",
   "execution_count": 81,
   "metadata": {},
   "outputs": [],
   "source": [
    "class Node:\n",
    "    def __init__(self, index, value):\n",
    "        self.index = index\n",
    "        self.value = value\n",
    "        self.left = None\n",
    "        self.right = None"
   ]
  },
  {
   "cell_type": "markdown",
   "metadata": {},
   "source": [
    "Используя алгоритм ID3 построим дерево решений."
   ]
  },
  {
   "cell_type": "code",
   "execution_count": 87,
   "metadata": {},
   "outputs": [],
   "source": [
    "def Gini(X, Y, i, v):\n",
    "    YL = Y[X[::, i] <= v]\n",
    "    YR = Y[X[::, i] > v]\n",
    "    \n",
    "    yl1 = YL.sum()\n",
    "    yl0 = YL.shape[0] - yl1\n",
    "    \n",
    "    yr1 = YR.sum()\n",
    "    yr0 = YR.shape[0] - yr1\n",
    "    \n",
    "    return (yl0 * (yl0 + 1) + yl1 * (yl1 + 1) + yr0 * (yr0 + 1) + yr1 * (yr1 + 1))\n",
    "\n",
    "def BestGini(X, Y):\n",
    "    index = 0\n",
    "    value = 0\n",
    "    gini = 0\n",
    "    \n",
    "    for i in range(X.shape[1]):\n",
    "        for v in set(X[::, i]):\n",
    "            g = Gini(X, Y, i, v)\n",
    "            \n",
    "            if g < gini or gini == 0:\n",
    "                gini = g\n",
    "                index = i\n",
    "                value = v\n",
    "    \n",
    "    return index, value\n",
    "\n",
    "def ID3(X, Y, depth):\n",
    "    #все вершины одного класса\n",
    "    if Y.min() == Y.max():\n",
    "        return Node(-1, Y[0])\n",
    "    if depth == 0:\n",
    "        return Node(-1, round(Y.mean()))\n",
    "    \n",
    "    Node(-1, round(Y.mean()))\n",
    "    #используем критерий Джини\n",
    "    index, value = BestGini(X, Y)\n",
    "    \n",
    "    XL = X[X[::, index] <= value]\n",
    "    XR = X[X[::, index] > value]\n",
    "    YL = Y[X[::, index] <= value]\n",
    "    YR = Y[X[::, index] > value]\n",
    "    \n",
    "    if XL.shape[0] == 0 or XR.shape[0] == 0:\n",
    "        return Node(-1, round(Y.mean()))\n",
    "    \n",
    "    #создаём вершину и её поддеревья\n",
    "    n = Node(index, value)\n",
    "    n.left = ID3(XL, YL, depth - 1)\n",
    "    n.right = ID3(XR, YR, depth - 1)\n",
    "    return n\n",
    "\n",
    "#вычислить значение по дереву\n",
    "def getClass(tree, x):\n",
    "    if tree.index == -1:\n",
    "        return tree.value\n",
    "    \n",
    "    if x[tree.index] <= tree.value:\n",
    "        return getClass(tree.left, x)\n",
    "    else:\n",
    "        return getClass(tree.right, x)"
   ]
  },
  {
   "cell_type": "markdown",
   "metadata": {},
   "source": [
    "Определим ещё одну функцию для оценки точности алгоритма."
   ]
  },
  {
   "cell_type": "code",
   "execution_count": 89,
   "metadata": {},
   "outputs": [],
   "source": [
    "def print_accuracy(y, y0):\n",
    "    tp, fp, tn, fn = 0, 0, 0, 0\n",
    "    \n",
    "    for i in range(y.shape[0]):\n",
    "        if y[i] == 0 and y0[i] == 0: tn += 1\n",
    "        if y[i] == 1 and y0[i] == 0: fn += 1\n",
    "        if y[i] == 0 and y0[i] == 1: fp += 1\n",
    "        if y[i] == 1 and y0[i] == 1: tp += 1\n",
    "        \n",
    "    print('Accuracy:', (tp + tn) / (tp + tn + fp + fn))\n",
    "    print('Precision:', tp / (tp + fp))\n",
    "    print('Recall:', tp / (tp + fn))"
   ]
  },
  {
   "cell_type": "code",
   "execution_count": 90,
   "metadata": {},
   "outputs": [
    {
     "name": "stdout",
     "output_type": "stream",
     "text": [
      "Accuracy: 0.6940298507462687\n",
      "Precision: 0.7714285714285715\n",
      "Recall: 0.45\n"
     ]
    }
   ],
   "source": [
    "tree = ID3(X_train, y_train, 15)\n",
    "\n",
    "tree_y0 = np.zeros(y_test.shape[0])\n",
    "\n",
    "for i in range(y_test.shape[0]):\n",
    "    tree_y0[i] = getClass(tree, X_test[i])\n",
    "\n",
    "print_accuracy(y_test, tree_y0)"
   ]
  },
  {
   "cell_type": "code",
   "execution_count": 91,
   "metadata": {},
   "outputs": [
    {
     "name": "stdout",
     "output_type": "stream",
     "text": [
      "Accuracy: 0.7761194029850746\n",
      "Precision: 0.7272727272727273\n",
      "Recall: 0.8\n"
     ]
    }
   ],
   "source": [
    "from sklearn.tree import DecisionTreeClassifier\n",
    "sk_tree = DecisionTreeClassifier()\n",
    "sk_tree.fit(X_train, y_train)\n",
    "\n",
    "print_accuracy(y_test, sk_tree.predict(Xtest))"
   ]
  },
  {
   "cell_type": "markdown",
   "metadata": {},
   "source": [
    "Как можно заметить, sklearn гораздо точнее решил задачу, чем написанный нами алгоритм."
   ]
  },
  {
   "cell_type": "markdown",
   "metadata": {},
   "source": [
    "## SVM"
   ]
  },
  {
   "cell_type": "code",
   "execution_count": 93,
   "metadata": {},
   "outputs": [],
   "source": [
    "svm_w = np.zeros(Xtrain.shape[1])\n",
    "svm_b = 0\n",
    "\n",
    "def f(x):\n",
    "    return 1 if np.dot(svm_w, x) - svm_b > 0 else -1\n",
    "\n",
    "#преобразуем Ytrain из [0, 1] в [-1, 1]\n",
    "svm_y = 2 * Ytrain - 1\n",
    "\n",
    "#обучение\n",
    "rate = 0.01\n",
    "lambd = 0.02\n",
    "\n",
    "for repeat in range(250):\n",
    "    for i in range(Xtrain.shape[0]):\n",
    "        x = Xtrain[i]\n",
    "        if 1 - svm_y[i] * (np.dot(svm_w, x) - svm_b) >= 0:\n",
    "            svm_w = svm_w * (1 - rate * lambd) + rate * svm_y[i] * x\n",
    "            svm_b = svm_b - rate * svm_y[i]\n",
    "        else:\n",
    "            svm_w = svm_w * (1 - rate * lambd)"
   ]
  },
  {
   "cell_type": "code",
   "execution_count": 101,
   "metadata": {},
   "outputs": [
    {
     "name": "stdout",
     "output_type": "stream",
     "text": [
      "Accuracy: 0.6940298507462687\n",
      "Precision: 0.6862745098039216\n",
      "Recall: 0.5833333333333334\n"
     ]
    }
   ],
   "source": [
    "svm_y0 = np.zeros(y_test.shape[0])\n",
    "\n",
    "for i in range(y_test.shape[0]):\n",
    "    if f(X_test[i]) < 0:\n",
    "        svm_y0[i] = 0\n",
    "    else:\n",
    "        svm_y0[i] = 1\n",
    "\n",
    "print_accuracy(y_test, svm_y0)"
   ]
  },
  {
   "cell_type": "code",
   "execution_count": 100,
   "metadata": {},
   "outputs": [
    {
     "name": "stdout",
     "output_type": "stream",
     "text": [
      "Accuracy: 0.6791044776119403\n",
      "Precision: 0.8148148148148148\n",
      "Recall: 0.36666666666666664\n"
     ]
    }
   ],
   "source": [
    "from sklearn.svm import SVC\n",
    "sk_svm = SVC()\n",
    "sk_svm.fit(X_train, y_train)\n",
    "\n",
    "print_accuracy(y_test, sk_svm.predict(X_test))"
   ]
  },
  {
   "cell_type": "markdown",
   "metadata": {},
   "source": [
    "На удивление, sklearn показал такую же точность как и наш алгоритм, но параметры precision и recall гораздо меньше именно в реализации sklearn. Возможно это из-за того что у нас не так много данных, и на бОльших объёмах алгоритм покажет более высокую эффективность. "
   ]
  }
 ],
 "metadata": {
  "kernelspec": {
   "display_name": "Python 3",
   "language": "python",
   "name": "python3"
  },
  "language_info": {
   "codemirror_mode": {
    "name": "ipython",
    "version": 3
   },
   "file_extension": ".py",
   "mimetype": "text/x-python",
   "name": "python",
   "nbconvert_exporter": "python",
   "pygments_lexer": "ipython3",
   "version": "3.6.9"
  }
 },
 "nbformat": 4,
 "nbformat_minor": 2
}
