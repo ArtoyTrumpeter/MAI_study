{
 "cells": [
  {
   "cell_type": "markdown",
   "metadata": {},
   "source": [
    "# Лабораторная работа №1 по курсу \"Машинное обучение\"\n",
    "\n",
    "Тояков Артем М8О-407Б-18\n",
    "\n",
    "## Датасет\n",
    "\n",
    "Начнём работу с загрузки датасета со статистикой игроков NBA."
   ]
  },
  {
   "cell_type": "code",
   "execution_count": 18,
   "metadata": {},
   "outputs": [],
   "source": [
    "import pandas as pd\n",
    "import numpy as np\n",
    "import seaborn as sns\n",
    "\n",
    "data = pd.read_csv('Seasons_Stats.csv')"
   ]
  },
  {
   "cell_type": "markdown",
   "metadata": {},
   "source": [
    "Выведем некоторую информацию о датасете:"
   ]
  },
  {
   "cell_type": "code",
   "execution_count": 2,
   "metadata": {},
   "outputs": [
    {
     "data": {
      "text/plain": [
       "(24691, 53)"
      ]
     },
     "execution_count": 2,
     "metadata": {},
     "output_type": "execute_result"
    }
   ],
   "source": [
    "data.shape"
   ]
  },
  {
   "cell_type": "code",
   "execution_count": 3,
   "metadata": {},
   "outputs": [
    {
     "name": "stdout",
     "output_type": "stream",
     "text": [
      "['Unnamed: 0' 'Year' 'Player' 'Pos' 'Age' 'Tm' 'G' 'GS' 'MP' 'PER' 'TS%'\n",
      " '3PAr' 'FTr' 'ORB%' 'DRB%' 'TRB%' 'AST%' 'STL%' 'BLK%' 'TOV%' 'USG%'\n",
      " 'blanl' 'OWS' 'DWS' 'WS' 'WS/48' 'blank2' 'OBPM' 'DBPM' 'BPM' 'VORP' 'FG'\n",
      " 'FGA' 'FG%' '3P' '3PA' '3P%' '2P' '2PA' '2P%' 'eFG%' 'FT' 'FTA' 'FT%'\n",
      " 'ORB' 'DRB' 'TRB' 'AST' 'STL' 'BLK' 'TOV' 'PF' 'PTS']\n"
     ]
    }
   ],
   "source": [
    "print(data.columns.values)"
   ]
  },
  {
   "cell_type": "code",
   "execution_count": 4,
   "metadata": {},
   "outputs": [
    {
     "name": "stdout",
     "output_type": "stream",
     "text": [
      "<class 'pandas.core.frame.DataFrame'>\n",
      "RangeIndex: 24691 entries, 0 to 24690\n",
      "Data columns (total 53 columns):\n",
      " #   Column      Non-Null Count  Dtype  \n",
      "---  ------      --------------  -----  \n",
      " 0   Unnamed: 0  24691 non-null  int64  \n",
      " 1   Year        24624 non-null  float64\n",
      " 2   Player      24624 non-null  object \n",
      " 3   Pos         24624 non-null  object \n",
      " 4   Age         24616 non-null  float64\n",
      " 5   Tm          24624 non-null  object \n",
      " 6   G           24624 non-null  float64\n",
      " 7   GS          18233 non-null  float64\n",
      " 8   MP          24138 non-null  float64\n",
      " 9   PER         24101 non-null  float64\n",
      " 10  TS%         24538 non-null  float64\n",
      " 11  3PAr        18839 non-null  float64\n",
      " 12  FTr         24525 non-null  float64\n",
      " 13  ORB%        20792 non-null  float64\n",
      " 14  DRB%        20792 non-null  float64\n",
      " 15  TRB%        21571 non-null  float64\n",
      " 16  AST%        22555 non-null  float64\n",
      " 17  STL%        20792 non-null  float64\n",
      " 18  BLK%        20792 non-null  float64\n",
      " 19  TOV%        19582 non-null  float64\n",
      " 20  USG%        19640 non-null  float64\n",
      " 21  blanl       0 non-null      float64\n",
      " 22  OWS         24585 non-null  float64\n",
      " 23  DWS         24585 non-null  float64\n",
      " 24  WS          24585 non-null  float64\n",
      " 25  WS/48       24101 non-null  float64\n",
      " 26  blank2      0 non-null      float64\n",
      " 27  OBPM        20797 non-null  float64\n",
      " 28  DBPM        20797 non-null  float64\n",
      " 29  BPM         20797 non-null  float64\n",
      " 30  VORP        20797 non-null  float64\n",
      " 31  FG          24624 non-null  float64\n",
      " 32  FGA         24624 non-null  float64\n",
      " 33  FG%         24525 non-null  float64\n",
      " 34  3P          18927 non-null  float64\n",
      " 35  3PA         18927 non-null  float64\n",
      " 36  3P%         15416 non-null  float64\n",
      " 37  2P          24624 non-null  float64\n",
      " 38  2PA         24624 non-null  float64\n",
      " 39  2P%         24496 non-null  float64\n",
      " 40  eFG%        24525 non-null  float64\n",
      " 41  FT          24624 non-null  float64\n",
      " 42  FTA         24624 non-null  float64\n",
      " 43  FT%         23766 non-null  float64\n",
      " 44  ORB         20797 non-null  float64\n",
      " 45  DRB         20797 non-null  float64\n",
      " 46  TRB         24312 non-null  float64\n",
      " 47  AST         24624 non-null  float64\n",
      " 48  STL         20797 non-null  float64\n",
      " 49  BLK         20797 non-null  float64\n",
      " 50  TOV         19645 non-null  float64\n",
      " 51  PF          24624 non-null  float64\n",
      " 52  PTS         24624 non-null  float64\n",
      "dtypes: float64(49), int64(1), object(3)\n",
      "memory usage: 10.0+ MB\n"
     ]
    }
   ],
   "source": [
    "data.info()"
   ]
  },
  {
   "cell_type": "markdown",
   "metadata": {},
   "source": [
    "Исходя из полученной информации, нам интересны только год, в который играл человек, количество сыгранных игр, возраст игрока и количество забитых мячей."
   ]
  },
  {
   "cell_type": "code",
   "execution_count": 5,
   "metadata": {},
   "outputs": [],
   "source": [
    "data = data.drop(['Unnamed: 0', 'Player', 'Pos', 'Tm'], axis=1)\n",
    "data = data.drop(data.iloc[:, 3:30], axis=1)\n",
    "data = data.drop(['3PA', '3P%', '2PA', '2P%'], axis=1)\n",
    "data = data.drop(data.iloc[:, 5:19], axis=1)"
   ]
  },
  {
   "cell_type": "code",
   "execution_count": 6,
   "metadata": {},
   "outputs": [
    {
     "data": {
      "text/plain": [
       "(24691, 5)"
      ]
     },
     "execution_count": 6,
     "metadata": {},
     "output_type": "execute_result"
    }
   ],
   "source": [
    "data.shape"
   ]
  },
  {
   "cell_type": "code",
   "execution_count": 7,
   "metadata": {},
   "outputs": [
    {
     "data": {
      "text/html": [
       "<div>\n",
       "<style scoped>\n",
       "    .dataframe tbody tr th:only-of-type {\n",
       "        vertical-align: middle;\n",
       "    }\n",
       "\n",
       "    .dataframe tbody tr th {\n",
       "        vertical-align: top;\n",
       "    }\n",
       "\n",
       "    .dataframe thead th {\n",
       "        text-align: right;\n",
       "    }\n",
       "</style>\n",
       "<table border=\"1\" class=\"dataframe\">\n",
       "  <thead>\n",
       "    <tr style=\"text-align: right;\">\n",
       "      <th></th>\n",
       "      <th>Year</th>\n",
       "      <th>Age</th>\n",
       "      <th>G</th>\n",
       "      <th>3P</th>\n",
       "      <th>2P</th>\n",
       "    </tr>\n",
       "  </thead>\n",
       "  <tbody>\n",
       "    <tr>\n",
       "      <th>count</th>\n",
       "      <td>24624.000000</td>\n",
       "      <td>24616.000000</td>\n",
       "      <td>24624.000000</td>\n",
       "      <td>18927.000000</td>\n",
       "      <td>24624.000000</td>\n",
       "    </tr>\n",
       "    <tr>\n",
       "      <th>mean</th>\n",
       "      <td>1992.594989</td>\n",
       "      <td>26.664405</td>\n",
       "      <td>50.837110</td>\n",
       "      <td>22.215037</td>\n",
       "      <td>178.250447</td>\n",
       "    </tr>\n",
       "    <tr>\n",
       "      <th>std</th>\n",
       "      <td>17.429594</td>\n",
       "      <td>3.841892</td>\n",
       "      <td>26.496161</td>\n",
       "      <td>38.543366</td>\n",
       "      <td>179.478923</td>\n",
       "    </tr>\n",
       "    <tr>\n",
       "      <th>min</th>\n",
       "      <td>1950.000000</td>\n",
       "      <td>18.000000</td>\n",
       "      <td>1.000000</td>\n",
       "      <td>0.000000</td>\n",
       "      <td>0.000000</td>\n",
       "    </tr>\n",
       "    <tr>\n",
       "      <th>25%</th>\n",
       "      <td>1981.000000</td>\n",
       "      <td>24.000000</td>\n",
       "      <td>27.000000</td>\n",
       "      <td>0.000000</td>\n",
       "      <td>35.000000</td>\n",
       "    </tr>\n",
       "    <tr>\n",
       "      <th>50%</th>\n",
       "      <td>1996.000000</td>\n",
       "      <td>26.000000</td>\n",
       "      <td>58.000000</td>\n",
       "      <td>2.000000</td>\n",
       "      <td>122.000000</td>\n",
       "    </tr>\n",
       "    <tr>\n",
       "      <th>75%</th>\n",
       "      <td>2007.000000</td>\n",
       "      <td>29.000000</td>\n",
       "      <td>75.000000</td>\n",
       "      <td>27.000000</td>\n",
       "      <td>268.000000</td>\n",
       "    </tr>\n",
       "    <tr>\n",
       "      <th>max</th>\n",
       "      <td>2017.000000</td>\n",
       "      <td>44.000000</td>\n",
       "      <td>88.000000</td>\n",
       "      <td>402.000000</td>\n",
       "      <td>1597.000000</td>\n",
       "    </tr>\n",
       "  </tbody>\n",
       "</table>\n",
       "</div>"
      ],
      "text/plain": [
       "               Year           Age             G            3P            2P\n",
       "count  24624.000000  24616.000000  24624.000000  18927.000000  24624.000000\n",
       "mean    1992.594989     26.664405     50.837110     22.215037    178.250447\n",
       "std       17.429594      3.841892     26.496161     38.543366    179.478923\n",
       "min     1950.000000     18.000000      1.000000      0.000000      0.000000\n",
       "25%     1981.000000     24.000000     27.000000      0.000000     35.000000\n",
       "50%     1996.000000     26.000000     58.000000      2.000000    122.000000\n",
       "75%     2007.000000     29.000000     75.000000     27.000000    268.000000\n",
       "max     2017.000000     44.000000     88.000000    402.000000   1597.000000"
      ]
     },
     "execution_count": 7,
     "metadata": {},
     "output_type": "execute_result"
    }
   ],
   "source": [
    "data.describe()"
   ]
  },
  {
   "cell_type": "code",
   "execution_count": 8,
   "metadata": {},
   "outputs": [
    {
     "name": "stdout",
     "output_type": "stream",
     "text": [
      "['Year' 'Age' 'G' '3P' '2P']\n"
     ]
    }
   ],
   "source": [
    "print(data.columns.values)"
   ]
  },
  {
   "cell_type": "code",
   "execution_count": 9,
   "metadata": {},
   "outputs": [
    {
     "data": {
      "text/plain": [
       "2015.0    651\n",
       "2011.0    625\n",
       "2014.0    611\n",
       "2008.0    595\n",
       "2017.0    595\n",
       "         ... \n",
       "1959.0    110\n",
       "1955.0    109\n",
       "1957.0    107\n",
       "1956.0    106\n",
       "1961.0    104\n",
       "Name: Year, Length: 68, dtype: int64"
      ]
     },
     "execution_count": 9,
     "metadata": {},
     "output_type": "execute_result"
    }
   ],
   "source": [
    "data['Year'].value_counts()"
   ]
  },
  {
   "cell_type": "code",
   "execution_count": 10,
   "metadata": {},
   "outputs": [
    {
     "data": {
      "text/plain": [
       "24.0    2794\n",
       "23.0    2748\n",
       "25.0    2518\n",
       "26.0    2380\n",
       "27.0    2149\n",
       "22.0    1926\n",
       "28.0    1823\n",
       "29.0    1576\n",
       "30.0    1433\n",
       "31.0    1179\n",
       "32.0     952\n",
       "33.0     713\n",
       "21.0     609\n",
       "34.0     538\n",
       "35.0     347\n",
       "20.0     288\n",
       "36.0     210\n",
       "37.0     143\n",
       "19.0     111\n",
       "38.0      92\n",
       "39.0      48\n",
       "40.0      16\n",
       "18.0      13\n",
       "41.0       5\n",
       "42.0       3\n",
       "44.0       1\n",
       "43.0       1\n",
       "Name: Age, dtype: int64"
      ]
     },
     "execution_count": 10,
     "metadata": {},
     "output_type": "execute_result"
    }
   ],
   "source": [
    "data['Age'].value_counts()"
   ]
  },
  {
   "cell_type": "code",
   "execution_count": 11,
   "metadata": {},
   "outputs": [
    {
     "data": {
      "text/plain": [
       "82.0    1813\n",
       "81.0     964\n",
       "80.0     938\n",
       "79.0     757\n",
       "78.0     610\n",
       "        ... \n",
       "84.0      10\n",
       "85.0       6\n",
       "86.0       2\n",
       "87.0       1\n",
       "88.0       1\n",
       "Name: G, Length: 88, dtype: int64"
      ]
     },
     "execution_count": 11,
     "metadata": {},
     "output_type": "execute_result"
    }
   ],
   "source": [
    "data['G'].value_counts()"
   ]
  },
  {
   "cell_type": "markdown",
   "metadata": {},
   "source": [
    "Необходимо проверить, есть ли в датасете пустые значения. Если таковые будут - их необходимо удалить, чтобы датасет был более красивым и практичным для дальнейшей работы."
   ]
  },
  {
   "cell_type": "code",
   "execution_count": 12,
   "metadata": {},
   "outputs": [
    {
     "data": {
      "text/plain": [
       "0.0      7149\n",
       "1.0      1521\n",
       "2.0       796\n",
       "3.0       614\n",
       "4.0       446\n",
       "         ... \n",
       "257.0       1\n",
       "276.0       1\n",
       "193.0       1\n",
       "402.0       1\n",
       "324.0       1\n",
       "Name: 3P, Length: 240, dtype: int64"
      ]
     },
     "execution_count": 12,
     "metadata": {},
     "output_type": "execute_result"
    }
   ],
   "source": [
    "data['3P'].value_counts()"
   ]
  },
  {
   "cell_type": "code",
   "execution_count": 13,
   "metadata": {},
   "outputs": [
    {
     "data": {
      "text/plain": [
       "0.0      452\n",
       "1.0      400\n",
       "2.0      386\n",
       "3.0      359\n",
       "5.0      282\n",
       "        ... \n",
       "862.0      1\n",
       "931.0      1\n",
       "688.0      1\n",
       "888.0      1\n",
       "957.0      1\n",
       "Name: 2P, Length: 889, dtype: int64"
      ]
     },
     "execution_count": 13,
     "metadata": {},
     "output_type": "execute_result"
    }
   ],
   "source": [
    "data['2P'].value_counts()"
   ]
  },
  {
   "cell_type": "markdown",
   "metadata": {},
   "source": [
    "## Преобразование датасета"
   ]
  },
  {
   "cell_type": "markdown",
   "metadata": {},
   "source": [
    "Для начала устраним все выбросы."
   ]
  },
  {
   "cell_type": "code",
   "execution_count": 14,
   "metadata": {},
   "outputs": [
    {
     "data": {
      "text/plain": [
       "Year      67\n",
       "Age       75\n",
       "G         67\n",
       "3P      5764\n",
       "2P        67\n",
       "dtype: int64"
      ]
     },
     "execution_count": 14,
     "metadata": {},
     "output_type": "execute_result"
    }
   ],
   "source": [
    "missing_values_count = data.isnull().sum()\n",
    "\n",
    "missing_values_count[0:5]"
   ]
  },
  {
   "cell_type": "markdown",
   "metadata": {},
   "source": [
    "Видно, что в колонке трёхочковых очень много недостающих значений (~25%), поэтому удалим все эти строчки."
   ]
  },
  {
   "cell_type": "code",
   "execution_count": 15,
   "metadata": {},
   "outputs": [
    {
     "data": {
      "text/plain": [
       "True"
      ]
     },
     "execution_count": 15,
     "metadata": {},
     "output_type": "execute_result"
    }
   ],
   "source": [
    "data['3P'].isnull().max()"
   ]
  },
  {
   "cell_type": "code",
   "execution_count": 16,
   "metadata": {},
   "outputs": [],
   "source": [
    "data = data.dropna()"
   ]
  },
  {
   "cell_type": "code",
   "execution_count": 17,
   "metadata": {},
   "outputs": [
    {
     "data": {
      "text/plain": [
       "False"
      ]
     },
     "execution_count": 17,
     "metadata": {},
     "output_type": "execute_result"
    }
   ],
   "source": [
    "data['3P'].isnull().max()"
   ]
  },
  {
   "cell_type": "code",
   "execution_count": 18,
   "metadata": {},
   "outputs": [
    {
     "data": {
      "text/plain": [
       "(18927, 5)"
      ]
     },
     "execution_count": 18,
     "metadata": {},
     "output_type": "execute_result"
    }
   ],
   "source": [
    "data.shape"
   ]
  },
  {
   "cell_type": "markdown",
   "metadata": {},
   "source": [
    "Оставшиеся строчки и столбцы полностью заполнены, поэтому можем переходить к построению зависимостей."
   ]
  },
  {
   "cell_type": "markdown",
   "metadata": {},
   "source": [
    "## Визуализация зависимостей"
   ]
  },
  {
   "cell_type": "code",
   "execution_count": 19,
   "metadata": {},
   "outputs": [
    {
     "data": {
      "text/html": [
       "<div>\n",
       "<style scoped>\n",
       "    .dataframe tbody tr th:only-of-type {\n",
       "        vertical-align: middle;\n",
       "    }\n",
       "\n",
       "    .dataframe tbody tr th {\n",
       "        vertical-align: top;\n",
       "    }\n",
       "\n",
       "    .dataframe thead th {\n",
       "        text-align: right;\n",
       "    }\n",
       "</style>\n",
       "<table border=\"1\" class=\"dataframe\">\n",
       "  <thead>\n",
       "    <tr style=\"text-align: right;\">\n",
       "      <th></th>\n",
       "      <th>Year</th>\n",
       "      <th>Age</th>\n",
       "      <th>G</th>\n",
       "      <th>3P</th>\n",
       "      <th>2P</th>\n",
       "    </tr>\n",
       "  </thead>\n",
       "  <tbody>\n",
       "    <tr>\n",
       "      <th>5727</th>\n",
       "      <td>0</td>\n",
       "      <td>14</td>\n",
       "      <td>81</td>\n",
       "      <td>0</td>\n",
       "      <td>776</td>\n",
       "    </tr>\n",
       "    <tr>\n",
       "      <th>5728</th>\n",
       "      <td>0</td>\n",
       "      <td>7</td>\n",
       "      <td>66</td>\n",
       "      <td>0</td>\n",
       "      <td>153</td>\n",
       "    </tr>\n",
       "    <tr>\n",
       "      <th>5729</th>\n",
       "      <td>0</td>\n",
       "      <td>7</td>\n",
       "      <td>74</td>\n",
       "      <td>0</td>\n",
       "      <td>465</td>\n",
       "    </tr>\n",
       "    <tr>\n",
       "      <th>5730</th>\n",
       "      <td>0</td>\n",
       "      <td>13</td>\n",
       "      <td>79</td>\n",
       "      <td>4</td>\n",
       "      <td>379</td>\n",
       "    </tr>\n",
       "    <tr>\n",
       "      <th>5731</th>\n",
       "      <td>0</td>\n",
       "      <td>13</td>\n",
       "      <td>25</td>\n",
       "      <td>0</td>\n",
       "      <td>27</td>\n",
       "    </tr>\n",
       "    <tr>\n",
       "      <th>...</th>\n",
       "      <td>...</td>\n",
       "      <td>...</td>\n",
       "      <td>...</td>\n",
       "      <td>...</td>\n",
       "      <td>...</td>\n",
       "    </tr>\n",
       "    <tr>\n",
       "      <th>24686</th>\n",
       "      <td>37</td>\n",
       "      <td>6</td>\n",
       "      <td>61</td>\n",
       "      <td>0</td>\n",
       "      <td>253</td>\n",
       "    </tr>\n",
       "    <tr>\n",
       "      <th>24687</th>\n",
       "      <td>37</td>\n",
       "      <td>9</td>\n",
       "      <td>50</td>\n",
       "      <td>0</td>\n",
       "      <td>78</td>\n",
       "    </tr>\n",
       "    <tr>\n",
       "      <th>24688</th>\n",
       "      <td>37</td>\n",
       "      <td>2</td>\n",
       "      <td>18</td>\n",
       "      <td>0</td>\n",
       "      <td>10</td>\n",
       "    </tr>\n",
       "    <tr>\n",
       "      <th>24689</th>\n",
       "      <td>37</td>\n",
       "      <td>4</td>\n",
       "      <td>43</td>\n",
       "      <td>33</td>\n",
       "      <td>55</td>\n",
       "    </tr>\n",
       "    <tr>\n",
       "      <th>24690</th>\n",
       "      <td>37</td>\n",
       "      <td>1</td>\n",
       "      <td>37</td>\n",
       "      <td>0</td>\n",
       "      <td>126</td>\n",
       "    </tr>\n",
       "  </tbody>\n",
       "</table>\n",
       "<p>18927 rows × 5 columns</p>\n",
       "</div>"
      ],
      "text/plain": [
       "       Year  Age   G  3P   2P\n",
       "5727      0   14  81   0  776\n",
       "5728      0    7  66   0  153\n",
       "5729      0    7  74   0  465\n",
       "5730      0   13  79   4  379\n",
       "5731      0   13  25   0   27\n",
       "...     ...  ...  ..  ..  ...\n",
       "24686    37    6  61   0  253\n",
       "24687    37    9  50   0   78\n",
       "24688    37    2  18   0   10\n",
       "24689    37    4  43  33   55\n",
       "24690    37    1  37   0  126\n",
       "\n",
       "[18927 rows x 5 columns]"
      ]
     },
     "execution_count": 19,
     "metadata": {},
     "output_type": "execute_result"
    }
   ],
   "source": [
    "cols = list(data.columns)\n",
    "data[cols] = data[cols].apply(lambda x: pd.Categorical(x).codes)\n",
    "data"
   ]
  },
  {
   "cell_type": "markdown",
   "metadata": {},
   "source": [
    "Посмотрим на распределение наших признаков."
   ]
  },
  {
   "cell_type": "code",
   "execution_count": 20,
   "metadata": {},
   "outputs": [
    {
     "data": {
      "text/plain": [
       "array([[<AxesSubplot:title={'center':'Year'}>,\n",
       "        <AxesSubplot:title={'center':'Age'}>],\n",
       "       [<AxesSubplot:title={'center':'G'}>,\n",
       "        <AxesSubplot:title={'center':'3P'}>],\n",
       "       [<AxesSubplot:title={'center':'2P'}>, <AxesSubplot:>]],\n",
       "      dtype=object)"
      ]
     },
     "execution_count": 20,
     "metadata": {},
     "output_type": "execute_result"
    },
    {
     "data": {
      "image/png": "[encoded data removed]",
      "text/plain": [
       "<Figure size 2160x1440 with 6 Axes>"
      ]
     },
     "metadata": {
      "needs_background": "light"
     },
     "output_type": "display_data"
    }
   ],
   "source": [
    "data[cols].hist(figsize=(30,20))"
   ]
  },
  {
   "cell_type": "markdown",
   "metadata": {},
   "source": [
    "Также необходимо посмотреть на зависимости между признаками:"
   ]
  },
  {
   "cell_type": "code",
   "execution_count": 21,
   "metadata": {},
   "outputs": [
    {
     "data": {
      "text/html": [
       "<div>\n",
       "<style scoped>\n",
       "    .dataframe tbody tr th:only-of-type {\n",
       "        vertical-align: middle;\n",
       "    }\n",
       "\n",
       "    .dataframe tbody tr th {\n",
       "        vertical-align: top;\n",
       "    }\n",
       "\n",
       "    .dataframe thead th {\n",
       "        text-align: right;\n",
       "    }\n",
       "</style>\n",
       "<table border=\"1\" class=\"dataframe\">\n",
       "  <thead>\n",
       "    <tr style=\"text-align: right;\">\n",
       "      <th></th>\n",
       "      <th>Year</th>\n",
       "      <th>Age</th>\n",
       "      <th>G</th>\n",
       "      <th>3P</th>\n",
       "      <th>2P</th>\n",
       "    </tr>\n",
       "  </thead>\n",
       "  <tbody>\n",
       "    <tr>\n",
       "      <th>Year</th>\n",
       "      <td>1.000000</td>\n",
       "      <td>0.020290</td>\n",
       "      <td>-0.102183</td>\n",
       "      <td>0.269155</td>\n",
       "      <td>-0.192760</td>\n",
       "    </tr>\n",
       "    <tr>\n",
       "      <th>Age</th>\n",
       "      <td>0.020290</td>\n",
       "      <td>1.000000</td>\n",
       "      <td>0.017809</td>\n",
       "      <td>0.058648</td>\n",
       "      <td>-0.016803</td>\n",
       "    </tr>\n",
       "    <tr>\n",
       "      <th>G</th>\n",
       "      <td>-0.102183</td>\n",
       "      <td>0.017809</td>\n",
       "      <td>1.000000</td>\n",
       "      <td>0.389312</td>\n",
       "      <td>0.714158</td>\n",
       "    </tr>\n",
       "    <tr>\n",
       "      <th>3P</th>\n",
       "      <td>0.269155</td>\n",
       "      <td>0.058648</td>\n",
       "      <td>0.389312</td>\n",
       "      <td>1.000000</td>\n",
       "      <td>0.252005</td>\n",
       "    </tr>\n",
       "    <tr>\n",
       "      <th>2P</th>\n",
       "      <td>-0.192760</td>\n",
       "      <td>-0.016803</td>\n",
       "      <td>0.714158</td>\n",
       "      <td>0.252005</td>\n",
       "      <td>1.000000</td>\n",
       "    </tr>\n",
       "  </tbody>\n",
       "</table>\n",
       "</div>"
      ],
      "text/plain": [
       "          Year       Age         G        3P        2P\n",
       "Year  1.000000  0.020290 -0.102183  0.269155 -0.192760\n",
       "Age   0.020290  1.000000  0.017809  0.058648 -0.016803\n",
       "G    -0.102183  0.017809  1.000000  0.389312  0.714158\n",
       "3P    0.269155  0.058648  0.389312  1.000000  0.252005\n",
       "2P   -0.192760 -0.016803  0.714158  0.252005  1.000000"
      ]
     },
     "execution_count": 21,
     "metadata": {},
     "output_type": "execute_result"
    }
   ],
   "source": [
    "data.corr()"
   ]
  },
  {
   "cell_type": "markdown",
   "metadata": {},
   "source": [
    "### Выводы\n",
    "1. Исходя из полученного результата можно сделать вывод, что наибольшее количество игр играют те игроки, которые забивают наибольшее количество очков, что в принципе логично.\n",
    "2. Год, в который играли люди, влияет только на количество трёхочковых, но всего на ~30%.\n",
    "3. Возраст игроков не влияет на остальные параметры, т. к. коэффициенты корреляции < 0.1.\n",
    "4. После того, как я обработал данные, в них всё ещё остались некоторые дефекты, например, маленькое количество столбцов и следовательно, меньшее количество зависимостей. В рамках этой лабораторной работы я решил не сильно усложнять себе задачу и выбрал только 5 столбцов. В реальной жизни такие примеры можно встретить редко, но для изучения основ машинного обучения этого хватило."
   ]
  },
  {
   "cell_type": "markdown",
   "metadata": {},
   "source": [
    "## Реализация алгоритма KNN"
   ]
  },
  {
   "cell_type": "markdown",
   "metadata": {},
   "source": [
    "Так как в моём датасете нет ни одного булевого параметра, а задача написания kNN для данных с числом классов > 2 более сложная, я возьму датасет titanic, в котором есть булове значение survived и который является довольно популярным для изучения ML, и протестирую алгоритм на нём."
   ]
  },
  {
   "cell_type": "markdown",
   "metadata": {},
   "source": [
    "Приведение данных в надлежащий вид:"
   ]
  },
  {
   "cell_type": "code",
   "execution_count": 32,
   "metadata": {},
   "outputs": [],
   "source": [
    "trainDataset = pd.read_csv('titanic.csv')\n",
    "trainDataset = trainDataset.drop(['PassengerId', 'Ticket', 'Name', 'Cabin'], axis=1)\n",
    "trainDataset['Sex'] = trainDataset['Sex'].map({'female': 1, 'male': 0}).astype(int)\n",
    "trainDataset['Age'] = trainDataset['Age'].fillna(trainDataset['Age'].mean())\n",
    "freq_port = trainDataset.Embarked.dropna().mode()[0]\n",
    "trainDataset['Embarked'] = trainDataset['Embarked'].fillna(freq_port)\n",
    "trainDataset['Embarked'] = trainDataset['Embarked'].map( {'S': 0, 'C': 1, 'Q': 2} ).astype(int)"
   ]
  },
  {
   "cell_type": "code",
   "execution_count": 27,
   "metadata": {},
   "outputs": [],
   "source": [
    "from sklearn.model_selection import train_test_split\n",
    "\n",
    "X, Y = trainDataset.drop(columns=['Survived']).to_numpy(), np.array(trainDataset['Survived'])\n",
    "\n",
    "#разбиваю выборку на трейн и тест. Для теста выделяю 30% выборки.\n",
    "Xtrain, Xtest, Ytrain, Ytest = train_test_split(X, Y, test_size=0.3,random_state=42,shuffle = True)"
   ]
  },
  {
   "cell_type": "code",
   "execution_count": 28,
   "metadata": {},
   "outputs": [],
   "source": [
    "# евклидова метрика\n",
    "def distance(a, b):\n",
    "    return np.sqrt(np.sum(np.square(a - b)))\n",
    "\n",
    "def myKnn(xData, k, xTrain, yTrain):\n",
    "    y = np.zeros(xData.shape[0])\n",
    "    n = xData.shape[0]\n",
    "    for index in range(n):\n",
    "        xLine = xData[index]\n",
    "        distanceData = np.zeros((n,2))\n",
    "        # расстояние до каждого вектора из обучающей выборки\n",
    "        for i in range(n):\n",
    "            distanceData[i][0] = i\n",
    "            distanceData[i][1] = distance(xLine,xTrain[i])\n",
    "        # сортирую по значению расстояния до вектора\n",
    "        neighbors = sorted(distanceData, key = lambda x : x[1])[:k]\n",
    "        amount = [0,0]\n",
    "        # определяю какое значение преобладает у k \"ближайших соседей\"\n",
    "        for i in range(k):\n",
    "            amount[yTrain[int(neighbors[i][0])]] += 1\n",
    "        if amount[0] > amount[1]:\n",
    "            y[index] = 0\n",
    "        else:\n",
    "            y[index] = 1\n",
    "    return y"
   ]
  },
  {
   "cell_type": "code",
   "execution_count": 34,
   "metadata": {},
   "outputs": [
    {
     "name": "stdout",
     "output_type": "stream",
     "text": [
      "lib KNeighborsClassifier\n",
      "Accuracy: 0.7126865671641791\n",
      "Precision: 0.7428571428571429\n",
      "Recall: 0.46846846846846846\n",
      "-----------------------\n",
      "my KNeighborsClassifier\n",
      "Accuracy: 0.6902985074626866\n",
      "Precision: 0.7692307692307693\n",
      "Recall: 0.36036036036036034\n"
     ]
    }
   ],
   "source": [
    "from sklearn.neighbors import KNeighborsClassifier\n",
    "\n",
    "# основные метрики\n",
    "def print_accuracy(y, y0):\n",
    "    tp, fp, tn, fn = 0, 0, 0, 0\n",
    "\n",
    "    for i in range(y.shape[0]):\n",
    "        if y[i] == 0 and y0[i] == 0: tn += 1\n",
    "        if y[i] == 1 and y0[i] == 0: fn += 1\n",
    "        if y[i] == 0 and y0[i] == 1: fp += 1\n",
    "        if y[i] == 1 and y0[i] == 1: tp += 1\n",
    "        \n",
    "    print('Accuracy:', (tp + tn) / (tp + tn + fp + fn))\n",
    "    print('Precision:', tp / (tp + fp))\n",
    "    print('Recall:', tp / (tp + fn))\n",
    "\n",
    "print(\"lib KNeighborsClassifier\")\n",
    "sk_knn = KNeighborsClassifier(n_neighbors=25, weights=\"distance\")\n",
    "sk_knn.fit(Xtrain, Ytrain)\n",
    "print_accuracy(Ytest, sk_knn.predict(Xtest))\n",
    "print(\"-----------------------\")\n",
    "print(\"my KNeighborsClassifier\")\n",
    "print_accuracy(Ytest, myKnn(Xtest,25, Xtrain, Ytrain))"
   ]
  },
  {
   "cell_type": "markdown",
   "metadata": {},
   "source": [
    "Я поставил количество соседей равным 25. Сортировки и метрики в обоих реализациях одинаковы. По метрике Precision и при текущих настройках моя реализация knn точнее на 2-3%. Recall показыает то, что мой алгоритм kNN хуже предсказывает положительные ответы (выживших людей)."
   ]
  },
  {
   "cell_type": "markdown",
   "metadata": {},
   "source": [
    "## Реализация наивного Байесовского классификатора"
   ]
  },
  {
   "cell_type": "markdown",
   "metadata": {},
   "source": [
    "Наивный Байесовский классификатор оценивает вероятности принадлежности строки к классам и возвращает класс с наибольшей вероятностью. Эти вероятности вычисляются как произведения условных вероятностей для каждого элемента строки и вероятности данного класса. В своем примере я использовал нормальное распределение."
   ]
  },
  {
   "cell_type": "code",
   "execution_count": 30,
   "metadata": {},
   "outputs": [],
   "source": [
    "class NBayes():\n",
    "    \n",
    "    @staticmethod\n",
    "    def probChars(X):\n",
    "        # среднее значение величины - мат. ожидание\n",
    "        means = np.mean(X, axis=0)\n",
    "        # среднее квадратичное отклонение\n",
    "        stds = np.std(X, axis=0)\n",
    "        return list(zip(means, stds))\n",
    "\n",
    "    @staticmethod\n",
    "    def gaussProb(x, mean, std):\n",
    "        return (1 / np.sqrt(2 * np.pi * np.square(std))) * np.exp(-np.square(x - mean) / (2 * np.square(std)))\n",
    "\n",
    "    def fit(self, X, y):\n",
    "        classRows = {}\n",
    "        for row, cls in zip(X, y):\n",
    "            if cls not in classRows:\n",
    "                classRows[cls] = list()\n",
    "            classRows[cls].append(row)\n",
    "        self.clsLabels = np.unique(y)\n",
    "        # мат. ожидание и отклонение для каждого поля и для уникального значения 0 и 1\n",
    "        self.charsByClass = {cls: NBayes.probChars(rows) for cls, rows in classRows.items()}\n",
    "        # вероятности для уникального значения 0 и 1\n",
    "        self.probByClass = {cls: len(rows) / len(X) for cls, rows in classRows.items()}\n",
    "        \n",
    "\n",
    "    def predict(self, X):\n",
    "        y = []\n",
    "        for row_to_predict in X:\n",
    "            resultProbs = {}\n",
    "            for cls in self.clsLabels:\n",
    "                # произведение плотности распределений полей\n",
    "                likelhood = 1\n",
    "                for i, (mean, std) in enumerate(self.charsByClass[cls]):\n",
    "                    likelhood *=  NBayes.gaussProb(row_to_predict[i], mean, std)\n",
    "                resultProbs[cls] = self.probByClass[cls] * likelhood\n",
    "                # уникальное значение у которого max(self.probByClass[cls] * likelhood)\n",
    "            y.append(max(resultProbs.items(), key=lambda kv: kv[1])[0])\n",
    "        return y"
   ]
  },
  {
   "cell_type": "code",
   "execution_count": 31,
   "metadata": {},
   "outputs": [
    {
     "name": "stdout",
     "output_type": "stream",
     "text": [
      "my NBayes\n",
      "Accuracy: 0.7985074626865671\n",
      "Precision: 0.7614678899082569\n",
      "Recall: 0.7477477477477478\n",
      "-------------\n",
      "lib NBayes\n",
      "Accuracy: 0.7985074626865671\n",
      "Precision: 0.7614678899082569\n",
      "Recall: 0.7477477477477478\n"
     ]
    }
   ],
   "source": [
    "from sklearn.naive_bayes import GaussianNB\n",
    "print(\"my NBayes\")\n",
    "bayes = NBayes()\n",
    "bayes.fit(Xtrain, Ytrain)\n",
    "print_accuracy(Ytest, bayes.predict(Xtest))\n",
    "print(\"-------------\")\n",
    "print(\"lib NBayes\")\n",
    "sklearn_bayes = GaussianNB()\n",
    "sklearn_bayes.fit(Xtrain, Ytrain)\n",
    "print_accuracy(Ytest, sklearn_bayes.predict(Xtest))"
   ]
  },
  {
   "cell_type": "markdown",
   "metadata": {},
   "source": [
    "Как видно, значение метрик совпадают. Данный классификатор лучше распознает положительные ответы, точность исследования получилось примерно равная."
   ]
  }
 ],
 "metadata": {
  "kernelspec": {
   "display_name": "Python 3",
   "language": "python",
   "name": "python3"
  },
  "language_info": {
   "codemirror_mode": {
    "name": "ipython",
    "version": 3
   },
   "file_extension": ".py",
   "mimetype": "text/x-python",
   "name": "python",
   "nbconvert_exporter": "python",
   "pygments_lexer": "ipython3",
   "version": "3.6.9"
  }
 },
 "nbformat": 4,
 "nbformat_minor": 2
}
