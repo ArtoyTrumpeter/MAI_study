{
 "cells": [
  {
   "cell_type": "code",
   "execution_count": 27,
   "id": "e49f53c3",
   "metadata": {},
   "outputs": [],
   "source": [
    "from scipy.optimize import linprog\n",
    "from pulp import LpMaximize, LpMinimize, LpProblem, LpStatus, lpSum, LpVariable\n",
    "import numpy as np"
   ]
  },
  {
   "cell_type": "markdown",
   "id": "b2639bc3",
   "metadata": {},
   "source": [
    "Прямая задача:\n",
    "$c^Tx\\rightarrow \\max\\limits_{x\\in X}$\n",
    "\n",
    "$X=\\{u\\in R^n | Ax \\leq b, x\\geq 0\\}$  \n",
    "$c\\in R^n -$ вектор цен на продукцию, $c\\in R^m -$ вектор ограничений на ресурсы, $A\\in R^{m\\times n} -$ технологическая матрица, $x -$ план производства  \n",
    "$n=15, m=25, b_i=100+i, c_i=70-i, a_{ij}=1+((j+23)i+j^2+i^3+3(i+7))\\mod 34$"
   ]
  },
  {
   "cell_type": "code",
   "execution_count": 28,
   "id": "4395e6d3",
   "metadata": {},
   "outputs": [],
   "source": [
    "n = 15\n",
    "m = 25\n",
    "\n",
    "b = np.array([[100 + i] for i in range(m)])\n",
    "c = np.array([[70 - i] for i in range(n)])\n",
    "\n",
    "A = []\n",
    "\n",
    "for i in range(m):\n",
    "    l = []\n",
    "    for j in range(n):\n",
    "        l.append(1 + ((j + 23) * i + j ** 2 + i ** 3 + 3 * (i + 7)) % 34)\n",
    "    A.append(l)\n",
    "\n",
    "\n",
    "A = np.array(A)"
   ]
  },
  {
   "cell_type": "code",
   "execution_count": 29,
   "id": "feb3ed1c",
   "metadata": {},
   "outputs": [],
   "source": [
    "model_primal = LpProblem(name=\"resource-allocation\", sense=LpMaximize)\n",
    "\n",
    "x = [LpVariable(name=f\"x{i}\", lowBound=0) for i in range(1, n+1)]\n",
    "\n",
    "for i in range(m):\n",
    "    model_primal += np.dot(A[i], x) <= b[i,0]\n",
    "\n",
    "model_primal += lpSum(np.dot(c.T, x))"
   ]
  },
  {
   "cell_type": "code",
   "execution_count": 30,
   "id": "4af1c7b5",
   "metadata": {},
   "outputs": [
    {
     "name": "stdout",
     "output_type": "stream",
     "text": [
      "status: 1, Optimal\n",
      "objective: 395.722650185\n",
      "x1: 0.57891566\n",
      "x10: 0.83144578\n",
      "x11: 0.0\n",
      "x12: 0.62626506\n",
      "x13: 0.42361446\n",
      "x14: 0.031566265\n",
      "x15: 0.0\n",
      "x2: 0.48674699\n",
      "x3: 0.81566265\n",
      "x4: 0.21843373\n",
      "x5: 0.81313253\n",
      "x6: 0.45518072\n",
      "x7: 0.84722892\n",
      "x8: 0.0\n",
      "x9: 0.0\n",
      "_C1: -5.499999633507002e-08\n",
      "_C2: -25.04939768499999\n",
      "_C3: -9.4999990152278e-08\n",
      "_C4: -1.9500002013117523e-07\n",
      "_C5: -8.500000636679772e-08\n",
      "_C6: -23.976144854999998\n",
      "_C7: 2.4999993186725078e-08\n",
      "_C8: -1.749999952727066e-07\n",
      "_C9: -3.2197592549999943\n",
      "_C10: -5.499999156111102e-08\n",
      "_C11: -2.7500000943092573e-07\n",
      "_C12: -1.3500000528576805e-07\n",
      "_C13: -28.26915676499999\n",
      "_C14: -34.62265069499999\n",
      "_C15: -26.573253094999995\n",
      "_C16: -1.8500000398269378e-07\n",
      "_C17: -17.000000085\n",
      "_C18: -48.48891577499999\n",
      "_C19: -39.45228932499999\n",
      "_C20: -14.402891734999985\n",
      "_C21: -5.19421691500001\n",
      "_C22: -32.92674690500001\n",
      "_C23: -9.573253215\n",
      "_C24: -48.402891615000016\n",
      "_C25: -1.7499999260817134e-07\n"
     ]
    }
   ],
   "source": [
    "status_primal = model_primal.solve()\n",
    "\n",
    "print(f\"status: {model_primal.status}, {LpStatus[model_primal.status]}\")\n",
    "\n",
    "print(f\"objective: {model_primal.objective.value()}\")\n",
    "\n",
    "for var in model_primal.variables():\n",
    "    print(f\"{var.name}: {var.value()}\")\n",
    "    \n",
    "for name, constraint in model_primal.constraints.items():\n",
    "    print(f\"{name}: {constraint.value()}\")"
   ]
  },
  {
   "cell_type": "markdown",
   "id": "e3e35655",
   "metadata": {},
   "source": [
    "#### Двойственная задача\n",
    "\n",
    "$(b,y)\\rightarrow \\min_{y\\in Y}$  \n",
    "$Y=\\{y | A^Ty\\geq c, y\\geq 0\\}$"
   ]
  },
  {
   "cell_type": "code",
   "execution_count": 31,
   "id": "5dc2208d",
   "metadata": {},
   "outputs": [],
   "source": [
    "model_dual = LpProblem(name=\"resource-allocation-dual\", sense=LpMinimize)\n",
    "AT = A.T\n",
    "y = np.array([LpVariable(name=f\"y{i}\", lowBound=0) for i in range(1, m+1)])\n",
    "for i in range(n):\n",
    "    model_dual += np.dot(AT[i], y) >= c[i, 0]\n",
    "    \n",
    "model_dual += lpSum(np.dot(b.T, y))"
   ]
  },
  {
   "cell_type": "code",
   "execution_count": 32,
   "id": "8018137f",
   "metadata": {},
   "outputs": [
    {
     "name": "stdout",
     "output_type": "stream",
     "text": [
      "status: 1, Optimal\n",
      "objective: 395.72264984\n",
      "y1: 0.27506024\n",
      "y10: 0.59903614\n",
      "y11: 0.13325301\n",
      "y12: 0.4413253\n",
      "y13: 0.0\n",
      "y14: 0.0\n",
      "y15: 0.0\n",
      "y16: 0.26650602\n",
      "y17: 0.0\n",
      "y18: 0.0\n",
      "y19: 0.0\n",
      "y2: 0.0\n",
      "y20: 0.0\n",
      "y21: 0.0\n",
      "y22: 0.0\n",
      "y23: 0.0\n",
      "y24: 0.0\n",
      "y25: 0.22493976\n",
      "y3: 0.47433735\n",
      "y4: 0.39120482\n",
      "y5: 0.34963855\n",
      "y6: 0.0\n",
      "y7: 0.29096386\n",
      "y8: 0.23228916\n",
      "y9: 0.0\n",
      "_C1: -2.199999951102427e-07\n",
      "_C2: -1.099999948905861e-07\n",
      "_C3: -2.8000000429351246e-07\n",
      "_C4: -4.999999525523435e-08\n",
      "_C5: -9.99999993922529e-08\n",
      "_C6: -9.000000122938445e-08\n",
      "_C7: -1.9999994549380062e-08\n",
      "_C8: 8.770361309999997\n",
      "_C9: 20.367228720000007\n",
      "_C10: -1.2999998943996616e-07\n",
      "_C11: 11.056144319999998\n",
      "_C12: -1.300000000981072e-07\n",
      "_C13: -3.999999620418748e-08\n",
      "_C14: 1.0999999933147819e-07\n",
      "_C15: 23.484578239999998\n"
     ]
    }
   ],
   "source": [
    "status_dual = model_dual.solve()\n",
    "\n",
    "print(f\"status: {model_dual.status}, {LpStatus[model_dual.status]}\")\n",
    "\n",
    "print(f\"objective: {model_dual.objective.value()}\")\n",
    "\n",
    "for var in model_dual.variables():\n",
    "    print(f\"{var.name}: {var.value()}\")\n",
    "    \n",
    "for name, constraint in model_dual.constraints.items():\n",
    "    print(f\"{name}: {constraint.value()}\")"
   ]
  },
  {
   "cell_type": "markdown",
   "id": "58124ff2",
   "metadata": {},
   "source": [
    "Максимальной двойственной переменной является y10, увеличим его запас на единицу и найдём оптимальное значение целевой функции:"
   ]
  },
  {
   "cell_type": "code",
   "execution_count": 33,
   "id": "3dc651ed",
   "metadata": {},
   "outputs": [
    {
     "name": "stdout",
     "output_type": "stream",
     "text": [
      "status: 1, Optimal\n",
      "objective: 396.32168680599995\n"
     ]
    }
   ],
   "source": [
    "b_max = b.copy()\n",
    "b_max[9, 0] += 1\n",
    "\n",
    "model_max = LpProblem(name=\"resource-allocation\", sense=LpMaximize)\n",
    "\n",
    "for i in range(m):\n",
    "    model_max += np.dot(A[i], x) <= b_max[i,0]\n",
    "\n",
    "model_max += lpSum(np.dot(c.T, x))\n",
    "\n",
    "status_max = model_max.solve()\n",
    "print(f\"status: {model_max.status}, {LpStatus[model_max.status]}\")\n",
    "print(f\"objective: {model_max.objective.value()}\")"
   ]
  },
  {
   "cell_type": "markdown",
   "id": "c0fdb330",
   "metadata": {},
   "source": [
    "Повысим на единицу ограничение на другую двойственную переменную:"
   ]
  },
  {
   "cell_type": "code",
   "execution_count": 34,
   "id": "48eb9913",
   "metadata": {},
   "outputs": [
    {
     "name": "stdout",
     "output_type": "stream",
     "text": [
      "status: 1, Optimal\n",
      "objective: 395.722650185\n"
     ]
    }
   ],
   "source": [
    "b_other = b.copy()\n",
    "b_other[1] += 1\n",
    "\n",
    "model_other = LpProblem(name=\"resource-allocation\", sense=LpMaximize)\n",
    "\n",
    "for i in range(m):\n",
    "    model_other += np.dot(A[i], x) <= b_other[i,0]\n",
    "\n",
    "model_other += lpSum(np.dot(c.T, x))\n",
    "\n",
    "status_other = model_other.solve()\n",
    "print(f\"status: {model_other.status}, {LpStatus[model_other.status]}\")\n",
    "print(f\"objective: {model_other.objective.value()}\")"
   ]
  },
  {
   "cell_type": "markdown",
   "id": "5777c720",
   "metadata": {},
   "source": [
    "Целочисленный план производства:"
   ]
  },
  {
   "cell_type": "code",
   "execution_count": 35,
   "id": "f8d80596",
   "metadata": {},
   "outputs": [
    {
     "name": "stdout",
     "output_type": "stream",
     "text": [
      "status: 1, Optimal\n",
      "objective: 332.0\n",
      "x1: 1.0\n",
      "x10: 1.0\n",
      "x11: 0.0\n",
      "x12: 0.0\n",
      "x13: 0.0\n",
      "x14: 0.0\n",
      "x15: 0.0\n",
      "x2: 0.0\n",
      "x3: 1.0\n",
      "x4: 1.0\n",
      "x5: 1.0\n",
      "x6: 0.0\n",
      "x7: 0.0\n",
      "x8: 0.0\n",
      "x9: 0.0\n",
      "_C1: -16.0\n",
      "_C2: -34.0\n",
      "_C3: -22.0\n",
      "_C4: -18.0\n",
      "_C5: -26.0\n",
      "_C6: -16.0\n",
      "_C7: -26.0\n",
      "_C8: -26.0\n",
      "_C9: -20.0\n",
      "_C10: -12.0\n",
      "_C11: -6.0\n",
      "_C12: -6.0\n",
      "_C13: -16.0\n",
      "_C14: -74.0\n",
      "_C15: -48.0\n",
      "_C16: -10.0\n",
      "_C17: -32.0\n",
      "_C18: -50.0\n",
      "_C19: -34.0\n",
      "_C20: -22.0\n",
      "_C21: -52.0\n",
      "_C22: -94.0\n",
      "_C23: -16.0\n",
      "_C24: -60.0\n",
      "_C25: -26.0\n"
     ]
    }
   ],
   "source": [
    "model_int = LpProblem(name=\"resource-allocation\", sense=LpMaximize)\n",
    "\n",
    "x_int = [LpVariable(name=f\"x{i}\", lowBound=0, cat=\"Integer\") for i in range(1, n+1)]\n",
    "\n",
    "for i in range(m):\n",
    "    model_int += np.dot(A[i], x_int) <= b[i,0]\n",
    "\n",
    "model_int += lpSum(np.dot(c.T, x_int))\n",
    "\n",
    "status_int = model_int.solve()\n",
    "print(f\"status: {model_int.status}, {LpStatus[model_int.status]}\")\n",
    "print(f\"objective: {model_int.objective.value()}\")\n",
    "\n",
    "\n",
    "for var in model_int.variables():\n",
    "    print(f\"{var.name}: {var.value()}\")\n",
    "    \n",
    "for name, constraint in model_int.constraints.items():\n",
    "    print(f\"{name}: {constraint.value()}\")"
   ]
  },
  {
   "cell_type": "markdown",
   "id": "736bb6d2",
   "metadata": {},
   "source": [
    "Только первые $[n/2]$ товаров должны быть целочисленные:"
   ]
  },
  {
   "cell_type": "code",
   "execution_count": 24,
   "id": "60881d64",
   "metadata": {},
   "outputs": [
    {
     "name": "stdout",
     "output_type": "stream",
     "text": [
      "status: 1, Optimal\n",
      "objective: 372.35442992000003\n",
      "x1: 0.0\n",
      "x10: 0.59915612\n",
      "x11: 0.5021097\n",
      "x12: 0.70042194\n",
      "x13: 0.69620253\n",
      "x14: 0.4556962\n",
      "x15: 0.0\n",
      "x2: 0.0\n",
      "x3: 1.0\n",
      "x4: 0.0\n",
      "x5: 1.0\n",
      "x6: 0.0\n",
      "x7: 1.0\n",
      "x8: 0.0\n",
      "x9: 0.0\n",
      "_C1: -1.9999999523179213e-07\n",
      "_C2: -21.949367270000003\n",
      "_C3: -1.8000000334694732e-07\n",
      "_C4: -23.670886190000004\n",
      "_C5: -11.90717314\n",
      "_C6: -37.44303803\n",
      "_C7: -1.4000000625458142e-07\n",
      "_C8: -1.300000000981072e-07\n",
      "_C9: -10.185654160000015\n",
      "_C10: -1.0999999755512135e-07\n",
      "_C11: -10.185654139999999\n",
      "_C12: -9.000000122938445e-08\n",
      "_C13: -35.72151902\n",
      "_C14: -40.74261623\n",
      "_C15: -34.00000006\n",
      "_C16: -8.607595089999995\n",
      "_C17: -18.64978918\n",
      "_C18: -54.37130810999999\n",
      "_C19: -52.649789160000005\n",
      "_C20: -30.70042207000001\n",
      "_C21: -20.371308080000013\n",
      "_C22: -42.60759503\n",
      "_C23: -34.143459920000005\n",
      "_C24: -37.29957825000001\n",
      "_C25: -3.299578239999999\n"
     ]
    }
   ],
   "source": [
    "model_int2 = LpProblem(name=\"resource-allocation\", sense=LpMaximize)\n",
    "\n",
    "x_int2 = [LpVariable(name=f\"x{i}\", lowBound=0, cat=\"Integer\") for i in range(1, n//2+1)]\n",
    "\n",
    "for i in range(n//2+1, n+1):\n",
    "    x_int2.append(LpVariable(name=f\"x{i}\", lowBound=0))\n",
    "\n",
    "for i in range(m):\n",
    "    model_int2 += np.dot(A[i], x_int2) <= b[i,0]\n",
    "\n",
    "model_int2 += lpSum(np.dot(c.T, x_int2))\n",
    "\n",
    "status_int2 = model_int2.solve()\n",
    "print(f\"status: {model_int2.status}, {LpStatus[model_int2.status]}\")\n",
    "print(f\"objective: {model_int2.objective.value()}\")\n",
    "\n",
    "for var in model_int2.variables():\n",
    "    print(f\"{var.name}: {var.value()}\")\n",
    "    \n",
    "for name, constraint in model_int2.constraints.items():\n",
    "    print(f\"{name}: {constraint.value()}\")"
   ]
  }
 ],
 "metadata": {
  "kernelspec": {
   "display_name": "Python 3",
   "language": "python",
   "name": "python3"
  },
  "language_info": {
   "codemirror_mode": {
    "name": "ipython",
    "version": 3
   },
   "file_extension": ".py",
   "mimetype": "text/x-python",
   "name": "python",
   "nbconvert_exporter": "python",
   "pygments_lexer": "ipython3",
   "version": "3.6.9"
  }
 },
 "nbformat": 4,
 "nbformat_minor": 5
}
